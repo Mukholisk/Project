{
  "nbformat": 4,
  "nbformat_minor": 0,
  "metadata": {
    "colab": {
      "name": "쿠톤",
      "provenance": [],
      "collapsed_sections": []
    },
    "kernelspec": {
      "name": "python3",
      "display_name": "Python 3"
    }
  },
  "cells": [
    {
      "cell_type": "markdown",
      "metadata": {
        "id": "0vPHXXbQ3Kcs"
      },
      "source": [
        "2021년 10월 9일에 마지막으로 테스트하였습니다.  \n",
        "\n",
        "이 자료는 '위키독스 딥 러닝을 이용한 자연어 처리 입문, 네이버 영화 리뷰 튜토리얼입니다.'"
      ]
    },
    {
      "cell_type": "markdown",
      "metadata": {
        "id": "iOYvI79S4Ier"
      },
      "source": [
        "링크 : https://wikidocs.net/44249"
      ]
    },
    {
      "cell_type": "code",
      "metadata": {
        "colab": {
          "base_uri": "https://localhost:8080/",
          "height": 35
        },
        "id": "vDohkPU33SJO",
        "outputId": "5bfc5e43-f296-4bc8-a6ba-e8815de9a2a9"
      },
      "source": [
        "import tensorflow as tf\n",
        "tf.__version__"
      ],
      "execution_count": 1,
      "outputs": [
        {
          "output_type": "execute_result",
          "data": {
            "application/vnd.google.colaboratory.intrinsic+json": {
              "type": "string"
            },
            "text/plain": [
              "'2.7.0'"
            ]
          },
          "metadata": {},
          "execution_count": 1
        }
      ]
    },
    {
      "cell_type": "code",
      "metadata": {
        "id": "c7QL7XFIkirk",
        "colab": {
          "base_uri": "https://localhost:8080/"
        },
        "outputId": "291bb513-f0a0-43f0-b8d1-19de57df654a"
      },
      "source": [
        "pip install konlpy"
      ],
      "execution_count": 2,
      "outputs": [
        {
          "output_type": "stream",
          "name": "stdout",
          "text": [
            "Collecting konlpy\n",
            "  Downloading konlpy-0.5.2-py2.py3-none-any.whl (19.4 MB)\n",
            "\u001b[K     |████████████████████████████████| 19.4 MB 1.2 MB/s \n",
            "\u001b[?25hRequirement already satisfied: lxml>=4.1.0 in /usr/local/lib/python3.7/dist-packages (from konlpy) (4.2.6)\n",
            "Collecting colorama\n",
            "  Downloading colorama-0.4.4-py2.py3-none-any.whl (16 kB)\n",
            "Requirement already satisfied: tweepy>=3.7.0 in /usr/local/lib/python3.7/dist-packages (from konlpy) (3.10.0)\n",
            "Collecting JPype1>=0.7.0\n",
            "  Downloading JPype1-1.3.0-cp37-cp37m-manylinux_2_5_x86_64.manylinux1_x86_64.whl (448 kB)\n",
            "\u001b[K     |████████████████████████████████| 448 kB 29.1 MB/s \n",
            "\u001b[?25hRequirement already satisfied: numpy>=1.6 in /usr/local/lib/python3.7/dist-packages (from konlpy) (1.19.5)\n",
            "Collecting beautifulsoup4==4.6.0\n",
            "  Downloading beautifulsoup4-4.6.0-py3-none-any.whl (86 kB)\n",
            "\u001b[K     |████████████████████████████████| 86 kB 5.9 MB/s \n",
            "\u001b[?25hRequirement already satisfied: typing-extensions in /usr/local/lib/python3.7/dist-packages (from JPype1>=0.7.0->konlpy) (3.10.0.2)\n",
            "Requirement already satisfied: requests-oauthlib>=0.7.0 in /usr/local/lib/python3.7/dist-packages (from tweepy>=3.7.0->konlpy) (1.3.0)\n",
            "Requirement already satisfied: six>=1.10.0 in /usr/local/lib/python3.7/dist-packages (from tweepy>=3.7.0->konlpy) (1.15.0)\n",
            "Requirement already satisfied: requests[socks]>=2.11.1 in /usr/local/lib/python3.7/dist-packages (from tweepy>=3.7.0->konlpy) (2.23.0)\n",
            "Requirement already satisfied: oauthlib>=3.0.0 in /usr/local/lib/python3.7/dist-packages (from requests-oauthlib>=0.7.0->tweepy>=3.7.0->konlpy) (3.1.1)\n",
            "Requirement already satisfied: certifi>=2017.4.17 in /usr/local/lib/python3.7/dist-packages (from requests[socks]>=2.11.1->tweepy>=3.7.0->konlpy) (2021.10.8)\n",
            "Requirement already satisfied: urllib3!=1.25.0,!=1.25.1,<1.26,>=1.21.1 in /usr/local/lib/python3.7/dist-packages (from requests[socks]>=2.11.1->tweepy>=3.7.0->konlpy) (1.24.3)\n",
            "Requirement already satisfied: idna<3,>=2.5 in /usr/local/lib/python3.7/dist-packages (from requests[socks]>=2.11.1->tweepy>=3.7.0->konlpy) (2.10)\n",
            "Requirement already satisfied: chardet<4,>=3.0.2 in /usr/local/lib/python3.7/dist-packages (from requests[socks]>=2.11.1->tweepy>=3.7.0->konlpy) (3.0.4)\n",
            "Requirement already satisfied: PySocks!=1.5.7,>=1.5.6 in /usr/local/lib/python3.7/dist-packages (from requests[socks]>=2.11.1->tweepy>=3.7.0->konlpy) (1.7.1)\n",
            "Installing collected packages: JPype1, colorama, beautifulsoup4, konlpy\n",
            "  Attempting uninstall: beautifulsoup4\n",
            "    Found existing installation: beautifulsoup4 4.6.3\n",
            "    Uninstalling beautifulsoup4-4.6.3:\n",
            "      Successfully uninstalled beautifulsoup4-4.6.3\n",
            "Successfully installed JPype1-1.3.0 beautifulsoup4-4.6.0 colorama-0.4.4 konlpy-0.5.2\n"
          ]
        }
      ]
    },
    {
      "cell_type": "code",
      "metadata": {
        "id": "NbRPURtckS0U"
      },
      "source": [
        "import pandas as pd\n",
        "import urllib.request\n",
        "import matplotlib.pyplot as plt\n",
        "import re\n",
        "from konlpy.tag import Okt\n",
        "from tqdm import tqdm\n",
        "from tensorflow.keras.preprocessing.text import Tokenizer\n",
        "import numpy as np\n",
        "from tensorflow.keras.preprocessing.sequence import pad_sequences"
      ],
      "execution_count": 3,
      "outputs": []
    },
    {
      "cell_type": "code",
      "metadata": {
        "id": "WAL6cIYwkNqm",
        "colab": {
          "resources": {
            "http://localhost:8080/nbextensions/google.colab/files.js": {
              "data": "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",
              "ok": true,
              "headers": [
                [
                  "content-type",
                  "application/javascript"
                ]
              ],
              "status": 200,
              "status_text": ""
            }
          },
          "base_uri": "https://localhost:8080/",
          "height": 158
        },
        "outputId": "273f438e-2c1b-4376-96d8-81086af3bb95"
      },
      "source": [
        "from google.colab import files\n",
        "\n",
        "traindata = files.upload()\n",
        "testdata = files.upload()\n",
        "font= files.upload()\n",
        "#urllib.request.urlretrieve(\"https://raw.githubusercontent.com/e9t/nsmc/master/ratings_train.txt\", filename=\"ratings_train.txt\")\n",
        "#urllib.request.urlretrieve(\"https://raw.githubusercontent.com/e9t/nsmc/master/ratings_test.txt\", filename=\"ratings_test.txt\")"
      ],
      "execution_count": 61,
      "outputs": [
        {
          "output_type": "display_data",
          "data": {
            "text/html": [
              "\n",
              "     <input type=\"file\" id=\"files-8020d203-6a4d-4810-9ada-72ade802dfb2\" name=\"files[]\" multiple disabled\n",
              "        style=\"border:none\" />\n",
              "     <output id=\"result-8020d203-6a4d-4810-9ada-72ade802dfb2\">\n",
              "      Upload widget is only available when the cell has been executed in the\n",
              "      current browser session. Please rerun this cell to enable.\n",
              "      </output>\n",
              "      <script src=\"/nbextensions/google.colab/files.js\"></script> "
            ],
            "text/plain": [
              "<IPython.core.display.HTML object>"
            ]
          },
          "metadata": {}
        },
        {
          "output_type": "display_data",
          "data": {
            "text/html": [
              "\n",
              "     <input type=\"file\" id=\"files-358ee6d4-2a07-4238-8753-12a5a93fa52d\" name=\"files[]\" multiple disabled\n",
              "        style=\"border:none\" />\n",
              "     <output id=\"result-358ee6d4-2a07-4238-8753-12a5a93fa52d\">\n",
              "      Upload widget is only available when the cell has been executed in the\n",
              "      current browser session. Please rerun this cell to enable.\n",
              "      </output>\n",
              "      <script src=\"/nbextensions/google.colab/files.js\"></script> "
            ],
            "text/plain": [
              "<IPython.core.display.HTML object>"
            ]
          },
          "metadata": {}
        },
        {
          "output_type": "display_data",
          "data": {
            "text/html": [
              "\n",
              "     <input type=\"file\" id=\"files-fe73893c-d7e6-447f-84e5-f6424cc9a4be\" name=\"files[]\" multiple disabled\n",
              "        style=\"border:none\" />\n",
              "     <output id=\"result-fe73893c-d7e6-447f-84e5-f6424cc9a4be\">\n",
              "      Upload widget is only available when the cell has been executed in the\n",
              "      current browser session. Please rerun this cell to enable.\n",
              "      </output>\n",
              "      <script src=\"/nbextensions/google.colab/files.js\"></script> "
            ],
            "text/plain": [
              "<IPython.core.display.HTML object>"
            ]
          },
          "metadata": {}
        },
        {
          "output_type": "stream",
          "name": "stdout",
          "text": [
            "Saving 웰컴체 Regular.ttf to 웰컴체 Regular.ttf\n"
          ]
        }
      ]
    },
    {
      "cell_type": "code",
      "metadata": {
        "id": "xUU91wXtkOpr",
        "colab": {
          "base_uri": "https://localhost:8080/"
        },
        "outputId": "5193b8cd-6353-4df0-9ed4-e5e9130bb5e2"
      },
      "source": [
        "train_data = pd.read_table('TrainData.txt')\n",
        "test_data = pd.read_table('TestData.txt')\n",
        "\n",
        "print(train_data)"
      ],
      "execution_count": 62,
      "outputs": [
        {
          "output_type": "stream",
          "name": "stdout",
          "text": [
            "      id                                           document  label\n",
            "0    367                    국민의힘 36% vs 민주당 34%…격차 8%p→2%p로    0.0\n",
            "1    203               [영상]백신 부작용 공론화에도 \"문재인과 정은경은 사과도 없어?\"    1.0\n",
            "2    601                       퇴근했는데 업무 전화·이메일...포르투갈선 처벌된다    0.0\n",
            "3    412                 [이슈폴폴] 여론조사로 풀어 보는 정치…11월 둘째주 민심은?    0.0\n",
            "4    669  [1112퇴근길] 셀트리온 '렉키로나' 유럽·아시아·중남미 30여개국 판매 협상 외...    0.0\n",
            "..   ...                                                ...    ...\n",
            "667  801                       호주 산불로 코알라 2000마리가 죽었을지도 모른다    1.0\n",
            "668  802                       산불에 태풍까지 '난리통'…산불 이재민 \"가혹하다\"    1.0\n",
            "669  803                     김지민, 강원도 산불 피해에 \"비통하다\"..참담한 심경    1.0\n",
            "670  804                                    전국 태풍급 강풍과 눈 예보    1.0\n",
            "671  805                        경북, 태풍 '마이삭·하이선' 피해 1154억 원    1.0\n",
            "\n",
            "[672 rows x 3 columns]\n"
          ]
        }
      ]
    },
    {
      "cell_type": "code",
      "metadata": {
        "id": "hv2WLeglkV0T",
        "colab": {
          "base_uri": "https://localhost:8080/"
        },
        "outputId": "83fe1781-f846-41ba-9a18-cc6d9a190803"
      },
      "source": [
        "print('훈련 샘플의 개수 :',len(train_data)) # 훈련용 리뷰 개수 출력\n",
        "print('테스트 샘플의 개수 :',len(test_data)) # 테스트용 리뷰 개수 출력"
      ],
      "execution_count": 63,
      "outputs": [
        {
          "output_type": "stream",
          "name": "stdout",
          "text": [
            "훈련 샘플의 개수 : 672\n",
            "테스트 샘플의 개수 : 93\n"
          ]
        }
      ]
    },
    {
      "cell_type": "code",
      "metadata": {
        "id": "a3qpECZ5nFX8",
        "colab": {
          "base_uri": "https://localhost:8080/",
          "height": 204
        },
        "outputId": "8253fea7-ad06-4804-8cb7-4115d702d189"
      },
      "source": [
        "train_data[:5] # 상위 5개 출력"
      ],
      "execution_count": 64,
      "outputs": [
        {
          "output_type": "execute_result",
          "data": {
            "text/html": [
              "<div>\n",
              "<style scoped>\n",
              "    .dataframe tbody tr th:only-of-type {\n",
              "        vertical-align: middle;\n",
              "    }\n",
              "\n",
              "    .dataframe tbody tr th {\n",
              "        vertical-align: top;\n",
              "    }\n",
              "\n",
              "    .dataframe thead th {\n",
              "        text-align: right;\n",
              "    }\n",
              "</style>\n",
              "<table border=\"1\" class=\"dataframe\">\n",
              "  <thead>\n",
              "    <tr style=\"text-align: right;\">\n",
              "      <th></th>\n",
              "      <th>id</th>\n",
              "      <th>document</th>\n",
              "      <th>label</th>\n",
              "    </tr>\n",
              "  </thead>\n",
              "  <tbody>\n",
              "    <tr>\n",
              "      <th>0</th>\n",
              "      <td>367</td>\n",
              "      <td>국민의힘 36% vs 민주당 34%…격차 8%p→2%p로</td>\n",
              "      <td>0.0</td>\n",
              "    </tr>\n",
              "    <tr>\n",
              "      <th>1</th>\n",
              "      <td>203</td>\n",
              "      <td>[영상]백신 부작용 공론화에도 \"문재인과 정은경은 사과도 없어?\"</td>\n",
              "      <td>1.0</td>\n",
              "    </tr>\n",
              "    <tr>\n",
              "      <th>2</th>\n",
              "      <td>601</td>\n",
              "      <td>퇴근했는데 업무 전화·이메일...포르투갈선 처벌된다</td>\n",
              "      <td>0.0</td>\n",
              "    </tr>\n",
              "    <tr>\n",
              "      <th>3</th>\n",
              "      <td>412</td>\n",
              "      <td>[이슈폴폴] 여론조사로 풀어 보는 정치…11월 둘째주 민심은?</td>\n",
              "      <td>0.0</td>\n",
              "    </tr>\n",
              "    <tr>\n",
              "      <th>4</th>\n",
              "      <td>669</td>\n",
              "      <td>[1112퇴근길] 셀트리온 '렉키로나' 유럽·아시아·중남미 30여개국 판매 협상 외...</td>\n",
              "      <td>0.0</td>\n",
              "    </tr>\n",
              "  </tbody>\n",
              "</table>\n",
              "</div>"
            ],
            "text/plain": [
              "    id                                           document  label\n",
              "0  367                    국민의힘 36% vs 민주당 34%…격차 8%p→2%p로    0.0\n",
              "1  203               [영상]백신 부작용 공론화에도 \"문재인과 정은경은 사과도 없어?\"    1.0\n",
              "2  601                       퇴근했는데 업무 전화·이메일...포르투갈선 처벌된다    0.0\n",
              "3  412                 [이슈폴폴] 여론조사로 풀어 보는 정치…11월 둘째주 민심은?    0.0\n",
              "4  669  [1112퇴근길] 셀트리온 '렉키로나' 유럽·아시아·중남미 30여개국 판매 협상 외...    0.0"
            ]
          },
          "metadata": {},
          "execution_count": 64
        }
      ]
    },
    {
      "cell_type": "code",
      "metadata": {
        "id": "lLx7QYcCnGkz",
        "colab": {
          "base_uri": "https://localhost:8080/"
        },
        "outputId": "384507c2-ce6b-4aef-e375-780ec72e4ed0"
      },
      "source": [
        "train_data['document'].nunique(), train_data['label'].nunique()"
      ],
      "execution_count": 65,
      "outputs": [
        {
          "output_type": "execute_result",
          "data": {
            "text/plain": [
              "(489, 2)"
            ]
          },
          "metadata": {},
          "execution_count": 65
        }
      ]
    },
    {
      "cell_type": "code",
      "metadata": {
        "id": "zLIrjosmnMUD"
      },
      "source": [
        "train_data.drop_duplicates(subset=['document'], inplace=True) # document 열에서 중복인 내용이 있다면 중복 제거"
      ],
      "execution_count": 66,
      "outputs": []
    },
    {
      "cell_type": "code",
      "metadata": {
        "id": "yKGG3kAOnUEL",
        "colab": {
          "base_uri": "https://localhost:8080/"
        },
        "outputId": "d5741638-c20d-4000-e53a-4b7b2eabcfc6"
      },
      "source": [
        "print('총 샘플의 수 :',len(train_data))"
      ],
      "execution_count": 67,
      "outputs": [
        {
          "output_type": "stream",
          "name": "stdout",
          "text": [
            "총 샘플의 수 : 489\n"
          ]
        }
      ]
    },
    {
      "cell_type": "code",
      "metadata": {
        "id": "UjB5MxojnX5L",
        "colab": {
          "base_uri": "https://localhost:8080/",
          "height": 289
        },
        "outputId": "697778e0-e924-4a10-9bae-52577ed8a045"
      },
      "source": [
        "train_data['label'].value_counts().plot(kind = 'bar')"
      ],
      "execution_count": 68,
      "outputs": [
        {
          "output_type": "execute_result",
          "data": {
            "text/plain": [
              "<matplotlib.axes._subplots.AxesSubplot at 0x7f38ed90a310>"
            ]
          },
          "metadata": {},
          "execution_count": 68
        },
        {
          "output_type": "display_data",
          "data": {
            "image/png": "[encoded data removed]",
            "text/plain": [
              "<Figure size 432x288 with 1 Axes>"
            ]
          },
          "metadata": {
            "needs_background": "light"
          }
        }
      ]
    },
    {
      "cell_type": "code",
      "metadata": {
        "id": "14xix8ghnagT",
        "colab": {
          "base_uri": "https://localhost:8080/"
        },
        "outputId": "81a02630-a561-419a-f54b-c81b789e902e"
      },
      "source": [
        "print(train_data.groupby('label').size().reset_index(name = 'count'))"
      ],
      "execution_count": 69,
      "outputs": [
        {
          "output_type": "stream",
          "name": "stdout",
          "text": [
            "   label  count\n",
            "0    0.0    378\n",
            "1    1.0    109\n"
          ]
        }
      ]
    },
    {
      "cell_type": "code",
      "metadata": {
        "id": "_8yXVmIRnbtb",
        "colab": {
          "base_uri": "https://localhost:8080/"
        },
        "outputId": "0b093914-998b-488a-899a-cd881ef66cc8"
      },
      "source": [
        "print(train_data.isnull().values.any())"
      ],
      "execution_count": 70,
      "outputs": [
        {
          "output_type": "stream",
          "name": "stdout",
          "text": [
            "True\n"
          ]
        }
      ]
    },
    {
      "cell_type": "code",
      "metadata": {
        "id": "PwGZReKineYD",
        "colab": {
          "base_uri": "https://localhost:8080/"
        },
        "outputId": "e8d3f239-491f-42f7-a990-b5b6494dae4e"
      },
      "source": [
        "print(train_data.isnull().sum())"
      ],
      "execution_count": 71,
      "outputs": [
        {
          "output_type": "stream",
          "name": "stdout",
          "text": [
            "id          0\n",
            "document    0\n",
            "label       2\n",
            "dtype: int64\n"
          ]
        }
      ]
    },
    {
      "cell_type": "code",
      "metadata": {
        "id": "qzavofy6nfbT",
        "colab": {
          "base_uri": "https://localhost:8080/",
          "height": 49
        },
        "outputId": "f9be8b4a-8b59-4f2f-d165-72ae3adac5ed"
      },
      "source": [
        "train_data.loc[train_data.document.isnull()]"
      ],
      "execution_count": 72,
      "outputs": [
        {
          "output_type": "execute_result",
          "data": {
            "text/html": [
              "<div>\n",
              "<style scoped>\n",
              "    .dataframe tbody tr th:only-of-type {\n",
              "        vertical-align: middle;\n",
              "    }\n",
              "\n",
              "    .dataframe tbody tr th {\n",
              "        vertical-align: top;\n",
              "    }\n",
              "\n",
              "    .dataframe thead th {\n",
              "        text-align: right;\n",
              "    }\n",
              "</style>\n",
              "<table border=\"1\" class=\"dataframe\">\n",
              "  <thead>\n",
              "    <tr style=\"text-align: right;\">\n",
              "      <th></th>\n",
              "      <th>id</th>\n",
              "      <th>document</th>\n",
              "      <th>label</th>\n",
              "    </tr>\n",
              "  </thead>\n",
              "  <tbody>\n",
              "  </tbody>\n",
              "</table>\n",
              "</div>"
            ],
            "text/plain": [
              "Empty DataFrame\n",
              "Columns: [id, document, label]\n",
              "Index: []"
            ]
          },
          "metadata": {},
          "execution_count": 72
        }
      ]
    },
    {
      "cell_type": "code",
      "metadata": {
        "id": "GuRqUGURnhZj",
        "colab": {
          "base_uri": "https://localhost:8080/"
        },
        "outputId": "3197c655-b0bf-499f-9166-aac4bd8b9723"
      },
      "source": [
        "train_data = train_data.dropna(how = 'any') # Null 값이 존재하는 행 제거\n",
        "print(train_data.isnull().values.any()) # Null 값이 존재하는지 확인"
      ],
      "execution_count": 73,
      "outputs": [
        {
          "output_type": "stream",
          "name": "stdout",
          "text": [
            "False\n"
          ]
        }
      ]
    },
    {
      "cell_type": "code",
      "metadata": {
        "id": "MQmWzwSqnlG7",
        "colab": {
          "base_uri": "https://localhost:8080/"
        },
        "outputId": "405e3ea1-1674-4348-88f7-06e88ba2de5e"
      },
      "source": [
        "print(len(train_data))"
      ],
      "execution_count": 74,
      "outputs": [
        {
          "output_type": "stream",
          "name": "stdout",
          "text": [
            "487\n"
          ]
        }
      ]
    },
    {
      "cell_type": "code",
      "metadata": {
        "id": "yP6uj9BxnmNj",
        "colab": {
          "base_uri": "https://localhost:8080/",
          "height": 332
        },
        "outputId": "5515f389-533a-4a19-ba15-944802a0662f"
      },
      "source": [
        "train_data['document'] = train_data['document'].str.replace(\"[^ㄱ-ㅎㅏ-ㅣ가-힣 ]\",\"\")\n",
        "# 한글과 공백을 제외하고 모두 제거\n",
        "train_data[:5]"
      ],
      "execution_count": 75,
      "outputs": [
        {
          "output_type": "stream",
          "name": "stderr",
          "text": [
            "/usr/local/lib/python3.7/dist-packages/ipykernel_launcher.py:1: SettingWithCopyWarning: \n",
            "A value is trying to be set on a copy of a slice from a DataFrame.\n",
            "Try using .loc[row_indexer,col_indexer] = value instead\n",
            "\n",
            "See the caveats in the documentation: https://pandas.pydata.org/pandas-docs/stable/user_guide/indexing.html#returning-a-view-versus-a-copy\n",
            "  \"\"\"Entry point for launching an IPython kernel.\n"
          ]
        },
        {
          "output_type": "execute_result",
          "data": {
            "text/html": [
              "<div>\n",
              "<style scoped>\n",
              "    .dataframe tbody tr th:only-of-type {\n",
              "        vertical-align: middle;\n",
              "    }\n",
              "\n",
              "    .dataframe tbody tr th {\n",
              "        vertical-align: top;\n",
              "    }\n",
              "\n",
              "    .dataframe thead th {\n",
              "        text-align: right;\n",
              "    }\n",
              "</style>\n",
              "<table border=\"1\" class=\"dataframe\">\n",
              "  <thead>\n",
              "    <tr style=\"text-align: right;\">\n",
              "      <th></th>\n",
              "      <th>id</th>\n",
              "      <th>document</th>\n",
              "      <th>label</th>\n",
              "    </tr>\n",
              "  </thead>\n",
              "  <tbody>\n",
              "    <tr>\n",
              "      <th>0</th>\n",
              "      <td>367</td>\n",
              "      <td>국민의힘   민주당 격차 로</td>\n",
              "      <td>0.0</td>\n",
              "    </tr>\n",
              "    <tr>\n",
              "      <th>1</th>\n",
              "      <td>203</td>\n",
              "      <td>영상백신 부작용 공론화에도 문재인과 정은경은 사과도 없어</td>\n",
              "      <td>1.0</td>\n",
              "    </tr>\n",
              "    <tr>\n",
              "      <th>2</th>\n",
              "      <td>601</td>\n",
              "      <td>퇴근했는데 업무 전화이메일포르투갈선 처벌된다</td>\n",
              "      <td>0.0</td>\n",
              "    </tr>\n",
              "    <tr>\n",
              "      <th>3</th>\n",
              "      <td>412</td>\n",
              "      <td>이슈폴폴 여론조사로 풀어 보는 정치월 둘째주 민심은</td>\n",
              "      <td>0.0</td>\n",
              "    </tr>\n",
              "    <tr>\n",
              "      <th>4</th>\n",
              "      <td>669</td>\n",
              "      <td>퇴근길 셀트리온 렉키로나 유럽아시아중남미 여개국 판매 협상 외 경제금융뉴스 부터 인...</td>\n",
              "      <td>0.0</td>\n",
              "    </tr>\n",
              "  </tbody>\n",
              "</table>\n",
              "</div>"
            ],
            "text/plain": [
              "    id                                           document  label\n",
              "0  367                                    국민의힘   민주당 격차 로    0.0\n",
              "1  203                    영상백신 부작용 공론화에도 문재인과 정은경은 사과도 없어    1.0\n",
              "2  601                           퇴근했는데 업무 전화이메일포르투갈선 처벌된다    0.0\n",
              "3  412                       이슈폴폴 여론조사로 풀어 보는 정치월 둘째주 민심은    0.0\n",
              "4  669  퇴근길 셀트리온 렉키로나 유럽아시아중남미 여개국 판매 협상 외 경제금융뉴스 부터 인...    0.0"
            ]
          },
          "metadata": {},
          "execution_count": 75
        }
      ]
    },
    {
      "cell_type": "code",
      "metadata": {
        "id": "W1VTEzepnrDL",
        "colab": {
          "base_uri": "https://localhost:8080/"
        },
        "outputId": "e70ca2ef-d262-4c92-94e9-daff61fbbeb7"
      },
      "source": [
        "train_data['document'] = train_data['document'].str.replace('^ +', \"\") # white space 데이터를 empty value로 변경\n",
        "train_data['document'].replace('', np.nan, inplace=True)\n",
        "print(train_data.isnull().sum())"
      ],
      "execution_count": 76,
      "outputs": [
        {
          "output_type": "stream",
          "name": "stdout",
          "text": [
            "id          0\n",
            "document    0\n",
            "label       0\n",
            "dtype: int64\n"
          ]
        },
        {
          "output_type": "stream",
          "name": "stderr",
          "text": [
            "/usr/local/lib/python3.7/dist-packages/ipykernel_launcher.py:1: SettingWithCopyWarning: \n",
            "A value is trying to be set on a copy of a slice from a DataFrame.\n",
            "Try using .loc[row_indexer,col_indexer] = value instead\n",
            "\n",
            "See the caveats in the documentation: https://pandas.pydata.org/pandas-docs/stable/user_guide/indexing.html#returning-a-view-versus-a-copy\n",
            "  \"\"\"Entry point for launching an IPython kernel.\n",
            "/usr/local/lib/python3.7/dist-packages/pandas/core/series.py:4582: SettingWithCopyWarning: \n",
            "A value is trying to be set on a copy of a slice from a DataFrame\n",
            "\n",
            "See the caveats in the documentation: https://pandas.pydata.org/pandas-docs/stable/user_guide/indexing.html#returning-a-view-versus-a-copy\n",
            "  method=method,\n"
          ]
        }
      ]
    },
    {
      "cell_type": "code",
      "metadata": {
        "id": "JQqu-K7ooQsU",
        "colab": {
          "base_uri": "https://localhost:8080/",
          "height": 49
        },
        "outputId": "b744597c-a1fd-4f10-efd5-ee2a042a0fea"
      },
      "source": [
        "train_data.loc[train_data.document.isnull()][:5]"
      ],
      "execution_count": 77,
      "outputs": [
        {
          "output_type": "execute_result",
          "data": {
            "text/html": [
              "<div>\n",
              "<style scoped>\n",
              "    .dataframe tbody tr th:only-of-type {\n",
              "        vertical-align: middle;\n",
              "    }\n",
              "\n",
              "    .dataframe tbody tr th {\n",
              "        vertical-align: top;\n",
              "    }\n",
              "\n",
              "    .dataframe thead th {\n",
              "        text-align: right;\n",
              "    }\n",
              "</style>\n",
              "<table border=\"1\" class=\"dataframe\">\n",
              "  <thead>\n",
              "    <tr style=\"text-align: right;\">\n",
              "      <th></th>\n",
              "      <th>id</th>\n",
              "      <th>document</th>\n",
              "      <th>label</th>\n",
              "    </tr>\n",
              "  </thead>\n",
              "  <tbody>\n",
              "  </tbody>\n",
              "</table>\n",
              "</div>"
            ],
            "text/plain": [
              "Empty DataFrame\n",
              "Columns: [id, document, label]\n",
              "Index: []"
            ]
          },
          "metadata": {},
          "execution_count": 77
        }
      ]
    },
    {
      "cell_type": "code",
      "metadata": {
        "id": "2PjMgBhuoNKe"
      },
      "source": [
        "train_data = train_data.dropna(how = 'any')"
      ],
      "execution_count": 78,
      "outputs": []
    },
    {
      "cell_type": "code",
      "metadata": {
        "id": "tYFtD15Zn_Di",
        "colab": {
          "base_uri": "https://localhost:8080/"
        },
        "outputId": "99c3b569-f434-4ce2-dd97-f9282ef6d028"
      },
      "source": [
        "print(len(train_data))"
      ],
      "execution_count": 79,
      "outputs": [
        {
          "output_type": "stream",
          "name": "stdout",
          "text": [
            "487\n"
          ]
        }
      ]
    },
    {
      "cell_type": "code",
      "metadata": {
        "id": "al5ilRRDodDy",
        "colab": {
          "base_uri": "https://localhost:8080/"
        },
        "outputId": "cb5515ad-5765-4fa6-ecf2-7b0891013904"
      },
      "source": [
        "test_data.drop_duplicates(subset = ['document'], inplace=True) # document 열에서 중복인 내용이 있다면 중복 제거\n",
        "test_data['document'] = test_data['document'].str.replace(\"[^ㄱ-ㅎㅏ-ㅣ가-힣 ]\",\"\") # 정규 표현식 수행\n",
        "test_data['document'] = test_data['document'].str.replace('^ +', \"\") # 공백은 empty 값으로 변경\n",
        "test_data['document'].replace('', np.nan, inplace=True) # 공백은 Null 값으로 변경\n",
        "test_data = test_data.dropna(how='any') # Null 값 제거\n",
        "print('전처리 후 테스트용 샘플의 개수 :',len(test_data))"
      ],
      "execution_count": 80,
      "outputs": [
        {
          "output_type": "stream",
          "name": "stdout",
          "text": [
            "전처리 후 테스트용 샘플의 개수 : 89\n"
          ]
        }
      ]
    },
    {
      "cell_type": "code",
      "metadata": {
        "id": "g8fnrhryopII",
        "colab": {
          "base_uri": "https://localhost:8080/"
        },
        "outputId": "78589849-fded-4431-d6d4-85f8e6ccdcda"
      },
      "source": [
        "print('전처리 후 테스트용 샘플의 개수 :',len(test_data))"
      ],
      "execution_count": 81,
      "outputs": [
        {
          "output_type": "stream",
          "name": "stdout",
          "text": [
            "전처리 후 테스트용 샘플의 개수 : 89\n"
          ]
        }
      ]
    },
    {
      "cell_type": "code",
      "metadata": {
        "id": "UPPf9sPjoBq7"
      },
      "source": [
        "stopwords = ['의','가','이','은','들','는','좀','잘','걍','과','도','를','으로','자','에','와','한','하다']"
      ],
      "execution_count": 82,
      "outputs": []
    },
    {
      "cell_type": "code",
      "metadata": {
        "id": "fjfQaubRofR-"
      },
      "source": [
        "okt = Okt()"
      ],
      "execution_count": 83,
      "outputs": []
    },
    {
      "cell_type": "code",
      "metadata": {
        "id": "dcsq7xc4obAj",
        "colab": {
          "base_uri": "https://localhost:8080/"
        },
        "outputId": "16b4d083-e7e9-4b66-fce4-cb000d52ff9a"
      },
      "source": [
        "X_train = []\n",
        "for sentence in tqdm(train_data['document']):\n",
        "    tokenized_sentence = okt.morphs(sentence, stem=True) # 토큰화\n",
        "    stopwords_removed_sentence = [word for word in tokenized_sentence if not word in stopwords] # 불용어 제거\n",
        "    X_train.append(stopwords_removed_sentence)"
      ],
      "execution_count": 84,
      "outputs": [
        {
          "output_type": "stream",
          "name": "stderr",
          "text": [
            "100%|██████████| 487/487 [00:01<00:00, 280.69it/s]\n"
          ]
        }
      ]
    },
    {
      "cell_type": "code",
      "metadata": {
        "id": "S-QH3hiAomYB",
        "colab": {
          "base_uri": "https://localhost:8080/"
        },
        "outputId": "313f5abe-cf5e-43b5-e117-2e6ec80cfcbe"
      },
      "source": [
        "X_test = []\n",
        "for sentence in tqdm(test_data['document']):\n",
        "    tokenized_sentence = okt.morphs(sentence, stem=True) # 토큰화\n",
        "    stopwords_removed_sentence = [word for word in tokenized_sentence if not word in stopwords] # 불용어 제거\n",
        "    X_test.append(stopwords_removed_sentence)"
      ],
      "execution_count": 85,
      "outputs": [
        {
          "output_type": "stream",
          "name": "stderr",
          "text": [
            "100%|██████████| 89/89 [00:00<00:00, 583.47it/s]\n"
          ]
        }
      ]
    },
    {
      "cell_type": "code",
      "metadata": {
        "id": "AzPvb8HLpiQv",
        "colab": {
          "base_uri": "https://localhost:8080/"
        },
        "outputId": "e825b23d-970f-47e7-e5c6-ece6fa90c42b"
      },
      "source": [
        "print('전처리 후 테스트용 샘플의 개수 :',len(X_test))"
      ],
      "execution_count": 86,
      "outputs": [
        {
          "output_type": "stream",
          "name": "stdout",
          "text": [
            "전처리 후 테스트용 샘플의 개수 : 89\n"
          ]
        }
      ]
    },
    {
      "cell_type": "code",
      "metadata": {
        "id": "vT71wLflpRVy"
      },
      "source": [
        "tokenizer = Tokenizer()\n",
        "tokenizer.fit_on_texts(X_train)"
      ],
      "execution_count": 87,
      "outputs": []
    },
    {
      "cell_type": "code",
      "metadata": {
        "id": "hPfo_5xcqJcB",
        "colab": {
          "base_uri": "https://localhost:8080/"
        },
        "outputId": "3a8bd11c-29c9-43a8-ec3f-556c10c4d6b4"
      },
      "source": [
        "print(tokenizer.word_index)"
      ],
      "execution_count": 88,
      "outputs": [
        {
          "output_type": "stream",
          "name": "stdout",
          "text": [
            "{'이재명': 1, '년': 2, '요': 3, '소수': 4, '명': 5, '서': 6, '윤석열': 7, '로': 8, '만': 9, '백신': 10, '코로나': 11, '주': 12, '등': 13, '국민': 14, '정부': 15, '다': 16, '밉다': 17, '제': 18, '안': 19, '대다': 20, '없다': 21, '되다': 22, '나': 23, '것': 24, '시진핑': 25, '시간': 26, '중': 27, '공개': 28, '더': 29, '일': 30, '원': 31, '이준석': 32, '부터': 33, '중국': 34, '적': 35, '단독': 36, '대표': 37, '최': 38, '의혹': 39, '있다': 40, '민주당': 41, '뉴스': 42, '선언': 43, '개': 44, '원전': 45, '에서': 46, '지': 47, '아니다': 48, '대선': 49, '김': 50, '수': 51, '만에': 52, '연': 53, '여성': 54, '공': 55, '억': 56, '또': 57, '유럽': 58, '경제': 59, '대통령': 60, '조사': 61, '신': 62, '엔': 63, '모': 64, '바이든': 65, '당': 66, '전': 67, '성': 68, '권': 69, '검찰': 70, '테슬라': 71, '세': 72, '주유소': 73, '확진': 74, '증': 75, '전국': 76, '한국': 77, '판매': 78, '인': 79, '종전': 80, '사설': 81, '가족': 82, '원금': 83, '고': 84, '대장동': 85, '받다': 86, '차관': 87, '내': 88, '오늘': 89, '우리': 90, '위중': 91, '맞다': 92, '김종인': 93, '확보': 94, '힘': 95, '이슈': 96, '한미': 97, '간': 98, '않다': 99, '법원': 100, '사망': 101, '신고': 102, '경찰': 103, '보': 104, '방역': 105, '논란': 106, '못': 107, '만배': 108, '가상': 109, '자산': 110, '코인': 111, '주식': 112, '회복': 113, '접종': 114, '달라': 115, '신규': 116, '주민': 117, '아파트': 118, '상': 119, '징역': 120, '후보': 121, '소환': 122, '선': 123, '보다': 124, '월': 125, '키로': 126, '회의': 127, '국제': 128, '친': 129, '업계': 130, '호소': 131, '역사': 132, '첫': 133, '대응': 134, '인도네시아': 135, '미국': 136, '이유': 137, '돈': 138, '놀이터': 139, '개발': 140, '도이치': 141, '모터': 142, '스': 143, '총리': 144, '수석': 145, '청구': 146, '머스크': 147, '퇴': 148, '곳': 149, '유류': 150, '손준': 151, '분': 152, '제한': 153, '돼다': 154, '금융위': 155, '나라': 156, '하': 157, '정신': 158, '협력': 159, '심상정': 160, '동': 161, '경': 162, '살리다': 163, '처': 164, '난': 165, '승인': 166, '화이자': 167, '추진': 168, '시': 169, '국가': 170, '양': 171, '심근': 172, '지지율': 173, '영상': 174, '화': 175, '문': 176, '증권': 177, '대신': 178, '세계': 179, '태형': 180, '화상': 181, '합의': 182, '공무원': 183, '대란': 184, '상속세': 185, '허가': 186, '서명': 187, '사업': 188, '공약': 189, '고발': 190, '노동자': 191, '까지': 192, '오수': 193, '회장': 194, '주다': 195, '식사': 196, '다시': 197, '추다': 198, '왜': 199, '동맹': 200, '외교관': 201, '차량': 202, '사고': 203, '재건축': 204, '앞두다': 205, '첫날': 206, '반듯이': 207, '뒤': 208, '김부겸': 209, '빗썸': 210, '박살': 211, '강성범': 212, '라': 213, '하루': 214, '관': 215, '논의': 216, '일제': 217, '부스터': 218, '샷': 219, '단체': 220, '부품': 221, '두': 222, '차별금지법': 223, '피해': 224, '입': 225, '해임': 226, '청년': 227, '수업': 228, '교사': 229, '대': 230, '인하': 231, '리': 232, '탈': 233, '염': 234, '배': 235, '의원': 236, '위성정당': 237, '사람': 238, '국내': 239, '연합뉴스': 240, '포털': 241, '사용': 242, '크다': 243, '건': 244, '환자': 245, '호주': 246, '사과': 247, '풀다': 248, '정치': 249, '렉': 250, '협상': 251, '곽상도': 252, '정의용': 253, '조율': 254, '쉬다': 255, '결의': 256, '부인': 257, '대검': 258, '라임': 259, '사태': 260, '정상회담': 261, '총': 262, '조': 263, '아이': 264, '이다': 265, '한국어': 266, '장': 267, '평가': 268, '내일': 269, '주가조작': 270, '구속': 271, '수사': 272, '청': 273, '발언': 274, '파다': 275, '홈페이지': 276, '좋다': 277, '측': 278, '주한': 279, '내년': 280, '재개발조합': 281, '부실': 282, '내리다': 283, '진중권': 284, '구속영장': 285, '산업': 286, '남성': 287, '행위': 288, '어디': 289, '석탄': 290, '보류': 291, '포스코': 292, '나다': 293, '노무현': 294, '배우다': 295, '트럼프': 296, '의회': 297, '백': 298, '안전성': 299, '기후': 300, '발표': 301, '정상': 302, '공급망': 303, '위험': 304, '눈': 305, '외교': 306, '축하': 307, '전달': 308, '치료': 309, '권고': 310, '만의': 311, '최대': 312, '폭설': 313, '도둑': 314, '위드': 315, '지급': 316, '연일': 317, '만원': 318, '연봉': 319, '경북': 320, '특검': 321, '위기': 322, '혐의': 323, '속': 324, '나선': 325, '꼭': 326, '구급차': 327, '건드리다': 328, '비다': 329, '꼼수': 330, '대사': 331, '오다': 332, '형': 333, '운영': 334, '기사': 335, '감염': 336, '값': 337, '멕시코': 338, '뒤지다': 339, '벨라루스': 340, '이익': 341, '급등': 342, '베트남': 343, '듣다': 344, '격차': 345, '퇴근': 346, '업무': 347, '민심': 348, '셀트리온': 349, '금융': 350, '덮다': 351, '영': 352, '끌': 353, '공급': 354, '끝나다': 355, '이송': 356, '후': 357, '대변인': 358, '인가': 359, '제재': 360, '영장': 361, '지시': 362, '시각': 363, '불륜': 364, '분담': 365, '금': 366, '내다': 367, '요구': 368, '피격': 369, '유족': 370, '소': 371, '기업': 372, '세율': 373, '금지': 374, '정': 375, '선관위': 376, '여가부': 377, '불법': 378, '집회': 379, '심사': 380, '의료': 381, '지원': 382, '위반': 383, '박': 384, '원주': 385, '계속': 386, '질병': 387, '사망자': 388, '연장': 389, '부동산': 390, '핵심': 391, '폐지': 392, '만나다': 393, '도주': 394, '거부': 395, '때': 396, '총회': 397, '직원': 398, '조치': 399, '임': 400, '날': 401, '테러': 402, '해외': 403, '소수점': 404, '거래': 405, '듯': 406, '깊이': 407, '아태': 408, '지역': 409, '한전': 410, '중단': 411, '사업자': 412, '수리': 413, '이미': 414, '문서': 415, '바뀌다': 416, '확산': 417, '공동': 418, '중요': 419, '사흘': 420, '음주운전': 421, '관심': 422, '안보': 423, '상황': 424, '자동차': 425, '재': 426, '분쟁': 427, '오스트리아': 428, '천명': 429, '여야': 430, '반대': 431, '사': 432, '영업': 433, '보고': 434, '질책': 435, '업다': 436, '인과성': 437, '이웃': 438, '이후': 439, '독일': 440, '넷플릭스': 441, '디즈니': 442, '재난': 443, '별': 444, '가다': 445, '농업인': 446, '참석': 447, '원로': 448, '항체': 449, '언론': 450, '향': 451, '보좌': 452, '밟다': 453, '오토바이': 454, '기원': 455, '요하': 456, '장관': 457, '이틀': 458, '동안': 459, '차': 460, '넣다': 461, '상승': 462, '지금': 463, '포드': 464, '을': 465, '임원': 466, '대위': 467, '방지법': 468, '앞': 469, '남': 470, '진에어': 471, '공항': 472, '줄': 473, '가혹': 474, '저격': 475, '감찰': 476, '미루다': 477, '알뜰': 478, '직영': 479, '불': 480, '휴': 481, '젤': 482, '검토': 483, '돌파': 484, '적다': 485, '린다': 486, '백악관': 487, '얼리다': 488, '버드': 489, '티켓': 490, '이상': 491, '박영수': 492, '로펌': 493, '선거': 494, '매': 495, '버스': 496, '가능': 497, '비상': 498, '씩': 499, '감금': 500, '수도권': 501, '집': 502, '용': 503, '의미': 504, '수도': 505, '질': 506, '화물차': 507, '바이오': 508, '째': 509, '게': 510, '문제': 511, '서비스': 512, '탄소': 513, '중립': 514, '국회': 515, '잡기': 516, '인터내셔널': 517, '일상': 518, '승객': 519, '시범': 520, '당하다': 521, '통합': 522, '쓰러지다': 523, '산': 524, '천억원': 525, '현실': 526, '산불': 527, '태풍': 528, '부작용': 529, '에도': 530, '정은경': 531, '개국': 532, '기준': 533, '마련': 534, '죽다': 535, '눈물': 536, '의원직': 537, '상실': 538, '대구': 539, '계': 540, '상당하다': 541, '구급대원': 542, '불다': 543, '장모': 544, '문건': 545, '총장': 546, '금투': 547, '남녀': 548, '충격': 549, '뛰다': 550, '인니': 551, '현물': 552, '유지': 553, '예산': 554, '일부': 555, '하라': 556, '승소': 557, '슈시': 558, '유목민': 559, '불가': 560, '공유': 561, '줄다': 562, '화웨이': 563, '공고': 564, '민주': 565, '노총': 566, '종합': 567, '철저하다': 568, '살피다': 569, '피의자': 570, '유가족': 571, '많다': 572, '황당': 573, '과세': 574, '유예': 575, '개발이익': 576, '배당': 577, '진짜': 578, '시키다': 579, '국힘': 580, '난리': 581, '냉전': 582, '경쟁': 583, '따르다': 584, '협조': 585, '전쟁': 586, '사건': 587, '큐브': 588, '접촉': 589, '사직': 590, '가결': 591, '회담': 592, '금지법': 593, '열풍': 594, '기후변화': 595, '성명': 596, '범': 597, '화석연료': 598, '보내다': 599, '자료': 600, '택시': 601, '없이': 602, '통신': 603, '장비': 604, '홍영표': 605, '봉하마을': 606, '찾다': 607, '훈장': 608, '소변': 609, '달': 610, '증권사': 611, '가능하다': 612, '강제추행': 613, '무죄': 614, '심': 615, '죄송': 616, '공조': 617, '혼란': 618, '발전': 619, '깜짝': 620, '계약': 621, '소식': 622, '해경': 623, '정보공개': 624, '넘다': 625, '미접': 626, '종자': 627, '폭동': 628, '요청': 629, '항소': 630, '포커스': 631, '사회': 632, '밍크고래': 633, '발견': 634, '천만원': 635, '놓다': 636, '판사': 637, '얀': 638, '세다': 639, '운전': 640, '에게': 641, '보이다': 642, '연구': 643, '결과': 644, '기자': 645, '사드': 646, '배치': 647, '얼마': 648, '든지': 649, '업그레이드': 650, '만난': 651, '번': 652, '카드': 653, '역대': 654, '초': 655, '뭉': 656, '러': 657, '의약품': 658, '국산': 659, '속출': 660, '변호': 661, '사비': 662, '대납': 663, '정황': 664, '펀드': 665, '및': 666, '점': 667, '사례': 668, '북': 669, '기록': 670, '무료': 671, '등장': 672, '위원회': 673, '뿔': 674, '돌': 675, '참여': 676, '추격': 677, '담그다': 678, '전망': 679, '잡다': 680, '강대': 681, '헌': 682, '마을': 683, '조폭': 684, '출신': 685, '박철민': 686, '사무실': 687, '사주': 688, '주도': 689, '싸움': 690, '드디어': 691, '찾아내다': 692, '다모': 693, '변': 694, '대법': 695, '덕': 696, '넘기다': 697, '허수아비': 698, '성추행': 699, '선고': 700, '방문': 701, '핸들': 702, '꺾다': 703, '피': 704, '손': 705, '잡고': 706, '년전': 707, '회초리': 708, '브리핑': 709, '서울시': 710, '전과자': 711, '화천': 712, '불응': 713, '걸다': 714, '출근': 715, '제의': 716, '레임덕': 717, '임기': 718, '말': 719, '주춤': 720, '서울': 721, '매수': 722, '심리': 723, '반등': 724, '사활': 725, '부족': 726, '해결': 727, '진료': 728, '어떻다': 729, '실형': 730, '상여금': 731, '잔치': 732, '조합': 733, '잘못': 734, '방': 735, '집착': 736, '인방': 737, '까닭': 738, '광고': 739, '처럼': 740, '종이': 741, '김주하': 742, '방침': 743, '확정': 744, '만취': 745, '벤츠': 746, '홍준표': 747, '하청': 748, '기다': 749, '안해': 750, '설': 751, '주유': 752, '그룹': 753, '생산': 754, '끊다': 755, '업체': 756, '길': 757, '일시': 758, '반박': 759, '북한': 760, '기': 761, '보상금': 762, '울분': 763, '심다': 764, '영향': 765, '함께': 766, '돌리다': 767, '요소': 768, '운전자': 769, '이벤트': 770, '개편': 771, '타': 772, '완전하다': 773, '폭격기': 774, '핵': 775, '성은': 776, '모두': 777, '트윗': 778, '동아': 779, '태차': 780, '관보': 781, '야': 782, '기반': 783, '이회창': 784, '발생': 785, '결정': 786, '배급': 787, '담기다': 788, '초안': 789, '음식': 790, '부정': 791, '게시판': 792, '모바일': 793, '화면': 794, '사라지다': 795, '현장': 796, '먹이': 797, '며': 798, '대들다': 799, '가격': 800, '오월': 801, '시대': 802, '읽다': 803, '강아지': 804, '알': 805, '닭': 806, '사냥': 807, '멈추다': 808, '차단': 809, '아': 810, '파마': 811, '리서치': 812, '보툴리눔톡신': 813, '새': 814, '싶다': 815, '면담': 816, '울': 817, '혁신': 818, '지정': 819, '매일': 820, '론': 821, '비판': 822, '앱': 823, '리뷰': 824, '거대': 825, '승자': 826, '국립보건원': 827, '아들': 828, '압박': 829, '마스크': 830, '표심': 831, '추가': 832, '징계': 833, '이야': 834, '개월치': 835, '대한항공': 836, '도입': 837, '화학': 838, '아내': 839, '납부': 840, '병상': 841, '연속': 842, '서버': 843, '폭': 844, '계획': 845, '발': 846, '원인': 847, '강화하다': 848, '건설': 849, '글': 850, '김대중': 851, '외치다': 852, '김포': 853, '대규모': 854, '게티': 855, '이미지': 856, '사진전': 857, '시작': 858, '수입': 859, '적발': 860, '가책': 861, '느끼다': 862, '베이징올림픽': 863, '초청': 864, '일이': 865, '허경영': 866, '난민': 867, '국경': 868, '긴장': 869, '사장': 870, '왕릉': 871, '뷰': 872, '드러내다': 873, '공원': 874, '온실가스': 875, '감축': 876, '채찍': 877, '부연': 878, '납': 879, '확대': 880, '필요': 881, '으로도': 882, '공론': 883, '문재인': 884, '전화': 885, '이메일': 886, '포르투갈': 887, '처벌': 888, '폴폴': 889, '여론조사': 890, '둘째': 891, '퇴근길': 892, '아시아': 893, '중남미': 894, '여': 895, '외': 896, '포스': 897, '탁데': 898, '일리': 899, '인증': 900, '교류': 901, '활성화': 902, '제안': 903, '이르다': 904, '중고': 905, '남구': 906, '재보궐': 907, '친문': 908, '빼다': 909, '빅': 910, '텐트': 911, '구상': 912, '일환': 913, '숨통': 914, '완전': 915, '정상화': 916, '언제': 917, '픽': 918, '같다': 919, '홍콩대': 920, '언급': 921, '대만': 922, '주장': 923, '전파': 924, '상급자': 925, '자막': 926, '배신': 927, '펄쩍': 928, '일반': 929, '액': 930, '증액': 931, '밀다': 932, '붙이다': 933, '경위': 934, '다른': 935, '단지': 936, '산다': 937, '굿모닝': 938, '월드': 939, '뿌리다': 940, '랴오허강': 941, '농부': 942, '언어': 943, '수익': 944, '공익': 945, '먼저': 946, '챙기다': 947, '전방': 948, '기재부': 949, '조정': 950, '과표': 951, '증여세': 952, '부담': 953, '제품': 954, '보안': 955, '비법': 956, '학': 957, '나기': 958, '관여': 959, '대회': 960, '동자': 961, '끝': 962, '추적': 963, '장일': 964, '상류층': 965, '인프라': 966, '인력': 967, '써다': 968, '핫이슈': 969, '칙': 970, '월성원전': 971, '일일이': 972, '설명': 973, '조사억': 974, '클럽': 975, '조준': 976, '가까이': 977, '대접': 978, '이탈': 979, '적법절차': 980, '변호사': 981, '세무': 982, '청소년': 983, '셧다운제': 984, '와중': 985, '다음주': 986, '처음': 987, '재보선': 988, '관리': 989, '의뢰': 990, '화훼이': 991, '오피넷': 992, '접속': 993, '부산': 994, '얼마만큼': 995, '온난화': 996, '명시': 997, '힘드다': 998, '고발장': 999, '검색': 1000, '부하': 1001, '통화': 1002, '들이다': 1003, '달아나다': 1004, '굳히다': 1005, '반입': 1006, '쓸다': 1007, '로남불': 1008, '강령': 1009, '목포': 1010, '보복': 1011, '그렇다': 1012, '공작': 1013, '유': 1014, '태완': 1015, '동양': 1016, '티피': 1017, '티': 1018, '은탑': 1019, '수훈': 1020, '풀이': 1021, '대상': 1022, '여학생': 1023, '대부분': 1024, '방뇨': 1025, '대법원': 1026, '하급': 1027, '파기': 1028, '환송': 1029, '모이다': 1030, '대본': 1031, '책임자': 1032, '로서': 1033, '강화': 1034, '대체': 1035, '시민': 1036, '빅스': 1037, '포': 1038, '개막': 1039, '회귀': 1040, '훈풍': 1041, '강세': 1042, '피살': 1043, '국방부': 1044, '제외': 1045, '실내': 1046, '시설': 1047, '출입': 1048, '기득권': 1049, '싸우다': 1050, '중지': 1051, '제기': 1052, '이석현': 1053, '약': 1054, '주간': 1055, '방미': 1056, '여론': 1057, '대한민국': 1058, '빈곤': 1059, '통영': 1060, '길이': 1061, '사체': 1062, '위판': 1063, '왕': 1064, '일침': 1065, '포괄': 1066, '예약': 1067, '자의': 1068, '완료': 1069, '초보': 1070, '보이지': 1071, '안다': 1072, '집사': 1073, '고양이': 1074, '반전': 1075, '매력': 1076, '면모': 1077, '드러나다': 1078, '마음대로': 1079, '바꾸다': 1080, '주권': 1081, '부르다': 1082, '고심': 1083, '제공': 1084, '중재': 1085, '박차': 1086, '슬로바키아': 1087, '대치': 1088, '땅땅': 1089, '땅': 1090, '개진': 1091, '이철희': 1092, '무산': 1093, '네이멍구': 1094, '동북지방': 1095, '전날': 1096, '증거': 1097, '멸': 1098, '정지': 1099, '폐쇄': 1100, '건첫': 1101, '동부': 1102, '산간': 1103, '쌓이다': 1104, '대원': 1105, '육': 1106, '책': 1107, '성매매': 1108, '출범': 1109, '사퇴': 1110, '홍보': 1111, '과거': 1112, '상상': 1113, '걸리다': 1114, '싱가포르': 1115, '일본': 1116, '상반': 1117, '모습': 1118, '열흘': 1119, '산림': 1120, '기대': 1121, '상당': 1122, '부분': 1123, '턱밑': 1124, '한경닷컴': 1125, '타결': 1126, '헬': 1127, '스케': 1128, '어': 1129, '가속': 1130, '자리다': 1131, '삼치': 1132, '횡재': 1133, '팔리다': 1134, '주차': 1135, '한라산': 1136, '아래': 1137, '쾌거': 1138, '유착': 1139, '결혼식': 1140, '축의금': 1141, '하고': 1142, '전용': 1143, '도황제': 1144, '든': 1145, '효과': 1146, '슈퍼': 1147, '여고생': 1148, '몰래': 1149, '연극배우': 1150, '뒤집혔다': 1151, '무능': 1152, '선대': 1153, '위서': 1154, '순': 1155, '전권': 1156, '과는': 1157, '별개': 1158, '교장': 1159, '황제': 1160, '교원': 1161, '교육부': 1162, '의견서': 1163, '국회의원': 1164, '특별': 1165, '박일': 1166, '광주': 1167, '전남': 1168, '남기다': 1169, '반응속도': 1170, '미치다': 1171, '넘어지다': 1172, '차주': 1173, '비정규직': 1174, '촛불집회': 1175, '차별': 1176, '철폐': 1177, '구본준': 1178, '신동빈': 1179, '구원투수': 1180, '들다': 1181, '김혜경': 1182, '일대': 1183, '농민': 1184, '천만': 1185, '간통': 1186, '생중계': 1187, '의장': 1188, '김어준': 1189, '공장': 1190, '자랑': 1191, '여기': 1192, '시속': 1193, '블': 1194, '링컨': 1195, '건강': 1196, '대유': 1197, '기름': 1198, '소방관': 1199, '희생': 1200, '헌신': 1201, '감사': 1202, '드리다': 1203, '저': 1204, '자신감': 1205, '벌써': 1206, '추월': 1207, '돌풍': 1208, '왁자지껄': 1209, '날금': 1210, '탑': 1211, '영덕': 1212, '집값': 1213, '매다': 1214, '붙다': 1215, '어쩌다': 1216, '진앙': 1217, '지로': 1218, '해도': 1219, '끝내': 1220, '조건': 1221, '부': 1222, '재택': 1223, '플러스': 1224, '스타트업': 1225, '회사': 1226, '분리': 1227, '많이': 1228, '연대': 1229, '총파업': 1230, '예고': 1231, '차질': 1232, '최악': 1233, '도보': 1234, '벗다': 1235, '거나': 1236, '마찬가지': 1237, '마트': 1238, '쫓겨나다': 1239, '입다': 1240, '권력': 1241, '미얀마': 1242, '억류': 1243, '언론인': 1244, '미만': 1245, '확률': 1246, '나가다': 1247, '빌리다': 1248, '재개발': 1249, '철퇴': 1250, '친척': 1251, '특보': 1252, '명절': 1253, '선물': 1254, '공모': 1255, '여부': 1256, '실패': 1257, '고리': 1258, '박근혜': 1259, '강력': 1260, '개정면': 1261, '다지다': 1262, '사찰': 1263, '발권': 1264, '장애': 1265, '아수라': 1266, '수백': 1267, '서다': 1268, '수속': 1269, '청와대': 1270, '공식': 1271, '종로': 1272, '구청': 1273, '과태료': 1274, '철인': 1275, '종': 1276, '최숙현': 1277, '선수': 1278, '감독': 1279, '꼴': 1280, '녀': 1281, '일요일': 1282, '꿈': 1283, '플랫폼': 1284, '부공': 1285, '연락': 1286, '사전': 1287, '교감': 1288, '며칠': 1289, '들썩': 1290, '주자': 1291, '반성': 1292, '발등': 1293, '떨어지다': 1294, '어쩌나': 1295, '우선': 1296, '대학동': 1297, '기와': 1298, '완성': 1299, '실적': 1300, '반토막': 1301, '일감': 1302, '폐업': 1303, '스스로': 1304, '지도자': 1305, '오르다': 1306, '열다': 1307, '휘발유': 1308, '생활': 1309, '성장': 1310, '인플레': 1311, '금리': 1312, '인상': 1313, '불지': 1314, '피다': 1315, '이남': 1316, '숙': 1317, '이윤자': 1318, '전주시': 1319, '농업': 1320, '농촌': 1321, '기여': 1322, '공로': 1323, '감사패': 1324, '상원의원': 1325, '반미': 1326, '경악': 1327, '심각하다': 1328, '결례': 1329, '신임': 1330, '결격': 1331, '사유': 1332, '숨지다': 1333, '피해자': 1334, '성관계': 1335, '유포': 1336, '종근당': 1337, '장남': 1338, '집행유예': 1339, '김건희': 1340, '곧': 1341, '관측': 1342, '이렇게': 1343, '생각': 1344, '장시간': 1345, '생계': 1346, '보장': 1347, '기각': 1348, '불충분': 1349, '염심': 1350, '낭염': 1351, '명도': 1352, '미납': 1353, '북부': 1354, '농': 1355, '경민': 1356, '수로': 1357, '뭉치다': 1358, '톤': 1359, '제주도': 1360, '수상': 1361, '영예': 1362, '강': 1363, '상민': 1364, '위대하다': 1365, '거장': 1366, '마티스': 1367, '전시회': 1368, '개최': 1369, '오픈': 1370, '고령': 1371, '인지': 1372, '능력': 1373, '검사': 1374, '면허': 1375, '시험': 1376, '장서': 1377, '확인': 1378, '분간': 1379, '매춘': 1380, '고객': 1381, '유치': 1382, '화제': 1383, '남욱정영학': 1384, '입찰': 1385, '준비': 1386, '부자': 1387, '뒷짐': 1388, '개월전': 1389, '앞서다': 1390, '승': 1391, '패': 1392, '에만': 1393, '단일': 1394, '화로': 1395, '승부': 1396, '반드시': 1397, '정치권': 1398, '떠들다': 1399, '썩': 1400, '올라타다': 1401, '출격': 1402, '루카셴코': 1403, '재소': 1404, '환조': 1405, '김웅': 1406, '거짓말': 1407, '수능': 1408, '고등학교': 1409, '격': 1410, '전환': 1411, '이래': 1412, '올라오다': 1413, '서학': 1414, '개미': 1415, '커밍아웃': 1416, '젠': 1417, '미몽': 1418, '깨어나다': 1419, '일문일답': 1420, '의존': 1421, '신기록': 1422, '규범': 1423, '질서': 1424, '주요': 1425, '파트너': 1426, '패배': 1427, '다르다': 1428, '닮다': 1429, '부당': 1430, '알권리': 1431, '제약': 1432, '망하다': 1433, '단': 1434, '에서만': 1435, '벌어지다': 1436, '간부': 1437, '대화': 1438, '내부': 1439, '메신저': 1440, '투기': 1441, '판': 1442, '깔다': 1443, '셈': 1444, '보조금': 1445, '단계': 1446, '제발': 1447, '키스': 1448, '해주다': 1449, '배달': 1450, '아기': 1451, '엄마': 1452, '매주': 1453, '뉴시스': 1454, '방울': 1455, '줌': 1456, '오': 1457, '겜': 1458, '출혈': 1459, '견디다': 1460, '갚다': 1461, '맵다': 1462, '최저': 1463, '마포': 1464, '팔자': 1465, '스포츠': 1466, '경기장': 1467, '콘서트장': 1468, '인원': 1469, '연내': 1470, '경선': 1471, '과대': 1472, '표집': 1473, '정기': 1474, '경쟁력': 1475, '무관': 1476, '북새통': 1477, '운송': 1478, '필수': 1479, '선박': 1480, '투입': 1481, '모독': 1482, '똑바로': 1483, '뉴스큐': 1484, '치다': 1485, '제대로': 1486, '키우다': 1487, '여우': 1488, '오리': 1489, '간첩': 1490, '출하': 1491, '해시태그': 1492, '시사': 1493, '매점매석': 1494, '현대': 1495, '먹다': 1496, '보위': 1497, '눈부시다': 1498, '아름답다': 1499, '원숭이': 1500, '안락사': 1501, '구진': 1502, '모든': 1503, '전투기': 1504, '늘다': 1505, '정의당': 1506, '품목': 1507, '회수': 1508, '폐기': 1509, '절차': 1510, '이화영': 1511, '킨텍스': 1512, '법인': 1513, '수천': 1514, '유용': 1515, '맹탕': 1516, '툰베리': 1517, '유엔': 1518, '선포': 1519, '청원': 1520, '뒤늦다': 1521, '반려견': 1522, '정체': 1523, '년생': 1524, '창업': 1525, '방석': 1526, '연결': 1527, '불편하다': 1528, '겪다': 1529, '부탁': 1530, '무력감': 1531, '국장': 1532, '휘청이다': 1533, '우주여행': 1534, '우주': 1535, '인간': 1536, '비싸다': 1537, '김수종': 1538, '칼럼': 1539, '비언': 1540, '뿐': 1541, '인과관계': 1542, '난폭': 1543, '은색': 1544, '쏘나타': 1545, '뜨다': 1546, '긴밀': 1547, '협의': 1548, '반기문': 1549, '에너지': 1550, '무책임': 1551, '지도': 1552, '식당': 1553, '송치': 1554, '반페미니즘': 1555, '기수': 1556, '자처': 1557, '추락': 1558, '장주': 1559, '오징어': 1560, '게임': 1561, '애원': 1562, '개다': 1563, '누구': 1564, '통과': 1565, '기술': 1566, '특허분쟁': 1567, '유서': 1568, '카톡': 1569, '텔레': 1570, '그램': 1571, '댓글': 1572, '묵살': 1573, '진실': 1574, '알리': 1575, '늑장': 1576, '판박이': 1577, '이윤': 1578, '매몰': 1579, '리터': 1580, '다단계': 1581, '중론': 1582, '비핵화': 1583, '주도하다': 1584, '국익': 1585, '특허권': 1586, '배분': 1587, '아무리': 1588, '강조': 1589, '지나치다': 1590, '경신': 1591, '구해': 1592, '금융투자': 1593, '회': 1594, '당장': 1595, '소환조사': 1596, '요양원': 1597, '집단': 1598, '노컷': 1599, '브이': 1600, '김정재': 1601, '끼어들다': 1602, '부윤': 1603, '갈래': 1604, '배경': 1605, '그린': 1606, '택': 1607, '노미': 1608, '톱': 1609, '지휘': 1610, '사우디': 1611, '추': 1612, '가물': 1613, '량': 1614, '대사관': 1615, '추돌': 1616, '설계': 1617, '제정': 1618, '외치': 1619, '내놓다': 1620, '답': 1621, '나중': 1622, '이명박': 1623, '연합': 1624, '지속': 1625, '화물': 1626, '채우다': 1627, '작년': 1628, '미성년': 1629, '여관': 1630, '달성': 1631, '운전사': 1632, '사려': 1633, '수면': 1634, '연루': 1635, '지지': 1636, '세력': 1637, '화하다': 1638, '신경': 1639, '쓰다': 1640, '취소': 1641, '불똥': 1642, '퇴직금': 1643, '다음': 1644, '쯤': 1645, '불닭': 1646, '소스': 1647, '빵': 1648, '억지로': 1649, '천연가스': 1650, '대남': 1651, '강행': 1652, '두다': 1653, '진행': 1654, '률': 1655, '무너지다': 1656, '속수무책': 1657, '백업': 1658, '보호': 1659, '강등': 1660, '편집': 1661, '여러': 1662, '과정': 1663, '남아': 1664, '기온': 1665, '위해': 1666, '노력': 1667, '나오다': 1668, '예측': 1669, '긴급': 1670, '만여': 1671, '악화': 1672, '중도': 1673, '진보': 1674, '아침': 1675, '묶인': 1676, '본사': 1677, '메인': 1678, '먹통': 1679, '최고': 1680, '치': 1681, '분양': 1682, '개인정보': 1683, '빼': 1684, '외국인': 1685, '대포통장': 1686, '발목': 1687, '잡히다': 1688, '불투명': 1689, '한국인': 1690, '빅데이터': 1691, '분석': 1692, '반응': 1693, '과학': 1694, '규명': 1695, '박병주': 1696, '위원장': 1697, '인터뷰': 1698, '농경지': 1699, '중앙': 1700, '기름값': 1701, '북적': 1702, '완화': 1703, '빨갛다': 1704, '면전': 1705, '한일합방': 1706, '탓': 1707, '반': 1708, '페미': 1709, '간담': 1710, '회서': 1711, '질문': 1712, '뻔돌': 1713, '여전': 1714, '수사의뢰': 1715, '월성': 1716, '인선': 1717, '좇': 1718, '엇갈리다': 1719, '장릉': 1720, '층': 1721, '높이': 1722, '맞추다': 1723, '사단': 1724, '총력전': 1725, '최초': 1726, '선보이다': 1727, '법안': 1728, '우려': 1729, '민노총': 1730, '도심': 1731, '시위': 1732, '엄정': 1733, '일본엔': 1734, '한마디': 1735, '웃다': 1736, '이억원': 1737, '기재': 1738, '예': 1739, '비분': 1740, '여파': 1741, '가입': 1742, '자수': 1743, '토막': 1744, '주시': 1745, '함정': 1746, '몸값': 1747, '높아지다': 1748, '전세계': 1749, '인데': 1750, '나르다': 1751, '불발': 1752, '늦가을': 1753, '나들이': 1754, '망치다': 1755, '묶이다': 1756, '호': 1757, '새벽': 1758, '업추비': 1759, '무단': 1760, '놀다': 1761, '투표': 1762, '베팅': 1763, '포위': 1764, '망': 1765, '동참': 1766, '촉구': 1767, '억천': 1768, '가능성': 1769, '자다': 1770, '윤': 1771, '더욱': 1772, '승률': 1773, '무슨': 1774, '즉각': 1775, '반영': 1776, '이제': 1777, '찬물': 1778, '끼': 1779, '얹다': 1780, '식약처': 1781, '연방': 1782, '제동': 1783, '헛소리': 1784, '잡': 1785, '김동연': 1786, '안철수': 1787, '탈당': 1788, '대가': 1789, '던지다': 1790, '보이': 1791, '남욱': 1792, '오후': 1793, '원천': 1794, '노릇': 1795, '없다윤': 1796, '성공': 1797, '도배': 1798, '지지자': 1799, '불만': 1800, '폭주': 1801, '탄핵': 1802, '쇄도': 1803, '가장': 1804, '오른': 1805, '마이너스': 1806, '섬나라': 1807, '투발루': 1808, '바다': 1809, '연설': 1810, '주일': 1811, '행정명령': 1812, '동원': 1813, '불통': 1814, '리빙톡': 1815, '위': 1816, '성호': 1817, '깨우다': 1818, '러시아': 1819, '배후': 1820, '말로': 1821, '방지': 1822, '깜빡': 1823, '님': 1824, '살찌다': 1825, '윤미향': 1826, '제출': 1827, '이제야': 1828, '심의': 1829, '착수': 1830, '출발': 1831, '이렇다': 1832, '라고': 1833, '대통령직': 1834, '어느': 1835, '정도': 1836, '관우': 1837, '죄송하다': 1838, '자신': 1839, '외신': 1840, '띄우다': 1841, '외출': 1842, '멍멍': 1843, '짖다': 1844, '닭장': 1845, '야생': 1846, '본색': 1847, '커플': 1848, '이라고': 1849, '천백': 1850, '명대': 1851, '멀어지다': 1852, '노': 1853, '각국': 1854, '목소리': 1855, '서울대': 1856, '병원': 1857, '간호사': 1858, '저희': 1859, '글로벌': 1860, '이름': 1861, '푸틴': 1862, '가스': 1863, '검찰총장': 1864, '폰': 1865, '압수': 1866, '규정': 1867, '보완': 1868, '합': 1869, '의문': 1870, '일보': 1871, '후퇴': 1872, '가지다': 1873, '존재': 1874, '세포': 1875, '견제': 1876, '관료': 1877, '이례': 1878, '중장비': 1879, '설현': 1880, '의식': 1881, '훈수': 1882, '상태': 1883, '몰다': 1884, '인부': 1885, '숨다': 1886, '두번째': 1887, '윗': 1888, '집중': 1889, '추궁': 1890, '개그맨': 1891, '되돌리다': 1892, '직격': 1893, '차기': 1894, '다자': 1895, '대결': 1896, '치열': 1897, '벌금': 1898, '내주다': 1899, '쇼': 1900, '전화하다': 1901, '줄빠따': 1902, '승용차': 1903, '천대': 1904, '재향군인': 1905, '무명': 1906, '용다': 1907, '묘': 1908, '개방': 1909, '연말': 1910, '주의보': 1911, '리비': 1912, '안이': 1913, '상장': 1914, '미터': 1915, '나무': 1916, '경관': 1917, '대책': 1918, '자유무역': 1919, '안정': 1920, '우버': 1921, '장애인': 1922, '손님': 1923, '대기': 1924, '요금': 1925, '고소': 1926, '생색': 1927, '품질': 1928, '낮다': 1929, '개입': 1930, '관권': 1931, '혜': 1932, '아빠': 1933, '찬스': 1934, '알다': 1935, '폴란드': 1936, '군사': 1937, '고조': 1938, '두산': 1939, '아프다': 1940, '손가락': 1941, '결국': 1942, '팔': 1943, '누가': 1944, '머리': 1945, '싸다': 1946, '억만원': 1947, '특징': 1948, '크래프트': 1949, '주가': 1950, '관련': 1951, '주목': 1952, '본문': 1953, '간통죄': 1954, '당한': 1955, '집행정지': 1956, '인용': 1957, '보툴': 1958, '렉스': 1959, '재개': 1960, '장기': 1961, '집권': 1962, '아체': 1963, '한수원': 1964, '원하다': 1965, '늘리다': 1966, '유가': 1967, '한시': 1968, '가보다': 1969, '가득': 1970, '조정은': 1971, '신중하다': 1972, '메르켈': 1973, '독': 1974, '의무': 1975, '도전': 1976, '결코': 1977, '필요하다': 1978, '외면': 1979, '아문': 1980, '매경': 1981, '서경': 1982, '동상': 1983, '이몽': 1984, '논쟁': 1985, '표': 1986, '구애': 1987, '젠더': 1988, '쟁': 1989, '점화': 1990, '황교익': 1991, '비뚤어지다': 1992, '신념': 1993, '신탁': 1994, '억원': 1995, '어치': 1996, '매도': 1997, '국토부': 1998, '합동': 1999, '점검': 2000, '법령': 2001, '매일신문': 2002, '진원': 2003, '인터': 2004, '만대': 2005, '풀리다': 2006, '서킷브레이커': 2007, '발동': 2008, '고비': 2009, '러이': 2010, '전시장': 2011, '휩쓸다': 2012, '전락': 2013, '하나': 2014, '일로': 2015, '분할': 2016, '분기': 2017, '원년': 2018, '끄다': 2019, '말르다': 2020, '관계': 2021, '증명서': 2022, '발급': 2023, '각': 2024, '나흘': 2025, '조천억원': 2026, '황금알': 2027, '특허': 2028, '갈등': 2029, '외교부': 2030, '팀': 2031, '안일': 2032, '환': 2033, '전격': 2034, '경질': 2035, '특허청장': 2036, '자가': 2037, '격리': 2038, '발레리노': 2039, '해고': 2040, '위법': 2041, '계승': 2042, '열': 2043, '뺑소니': 2044, '적용': 2045, '악어': 2046, '물리다': 2047, '채': 2048, '강물': 2049, '끌리다': 2050, '맥가이버칼': 2051, '코알라': 2052, '마리': 2053, '모르다': 2054, '통산': 2055, '재민': 2056, '가혹하다': 2057, '김지민': 2058, '강원도': 2059, '비통하다': 2060, '참담하다': 2061, '심경': 2062, '급': 2063, '강풍': 2064, '예보': 2065, '마이': 2066, '삭': 2067, '이선': 2068}\n"
          ]
        }
      ]
    },
    {
      "cell_type": "code",
      "metadata": {
        "id": "P87MGN80q7b2",
        "colab": {
          "base_uri": "https://localhost:8080/"
        },
        "outputId": "a7201d32-8e72-4761-fe29-440c3dc030b9"
      },
      "source": [
        "print(tokenizer.word_counts.items())"
      ],
      "execution_count": 89,
      "outputs": [
        {
          "output_type": "stream",
          "name": "stdout",
          "text": [
            "odict_items([('국민', 17), ('힘', 7), ('민주당', 11), ('격차', 3), ('로', 23), ('영상', 5), ('백신', 21), ('부작용', 2), ('공론', 1), ('화', 5), ('에도', 2), ('문재인', 1), ('정은경', 2), ('사과', 4), ('없다', 14), ('퇴근', 3), ('업무', 3), ('전화', 1), ('이메일', 1), ('포르투갈', 1), ('선', 6), ('처벌', 1), ('되다', 14), ('이슈', 7), ('폴폴', 1), ('여론조사', 1), ('풀다', 4), ('보다', 6), ('정치', 4), ('월', 6), ('둘째', 1), ('주', 18), ('민심', 3), ('퇴근길', 1), ('셀트리온', 3), ('렉', 4), ('키로', 6), ('나', 14), ('유럽', 9), ('아시아', 1), ('중남미', 1), ('여', 1), ('개국', 2), ('판매', 8), ('협상', 4), ('외', 1), ('경제', 9), ('금융', 3), ('뉴스', 11), ('부터', 12), ('인', 8), ('포스', 1), ('탁데', 1), ('일리', 1), ('문', 5), ('대통령', 9), ('회의', 6), ('서', 26), ('인증', 1), ('국제', 6), ('기준', 2), ('마련', 2), ('교류', 1), ('활성화', 1), ('제안', 1), ('이르다', 1), ('다', 16), ('죽다', 2), ('중고', 1), ('덮다', 3), ('친', 6), ('업계', 6), ('눈물', 2), ('호소', 6), ('곽상도', 4), ('의원직', 2), ('상실', 2), ('대구', 2), ('중', 13), ('남구', 1), ('재보궐', 1), ('계', 2), ('영', 3), ('끌', 3), ('윤석열', 24), ('친문', 1), ('빼다', 1), ('빅', 1), ('텐트', 1), ('구상', 1), ('일환', 1), ('요', 28), ('소수', 27), ('공급', 3), ('숨통', 1), ('완전', 1), ('정상화', 1), ('언제', 1), ('픽', 1), ('정의용', 4), ('종전', 8), ('선언', 11), ('한미', 7), ('간', 7), ('상당하다', 2), ('조율', 4), ('끝나다', 3), ('쉬다', 4), ('않다', 7), ('것', 14), ('같다', 1), ('중국', 12), ('역사', 6), ('결의', 4), ('홍콩대', 1), ('만', 22), ('첫', 6), ('언급', 1), ('대만', 1), ('적', 12), ('주장', 1), ('이재명', 37), ('부인', 4), ('이송', 3), ('구급대원', 2), ('후', 3), ('불다', 2), ('조사', 9), ('사설', 8), ('장모', 2), ('문건', 2), ('전파', 1), ('대검', 4), ('대변인', 3), ('총장', 2), ('가족', 8), ('인가', 3), ('라임', 4), ('사태', 4), ('신', 9), ('금투', 2), ('증권', 5), ('대신', 5), ('제재', 3), ('대응', 6), ('영장', 3), ('엔', 9), ('상급자', 1), ('지시', 3), ('시각', 3), ('세계', 5), ('인도네시아', 6), ('불륜', 3), ('남녀', 2), ('공개', 13), ('태형', 5), ('자막', 1), ('모', 9), ('더', 13), ('충격', 2), ('배신', 1), ('미국', 6), ('정부', 17), ('펄쩍', 1), ('뛰다', 2), ('이유', 6), ('바이든', 9), ('시진핑', 14), ('일', 13), ('화상', 5), ('정상회담', 4), ('일반', 1), ('인니', 2), ('분담', 3), ('금', 3), ('돈', 6), ('현물', 2), ('내다', 3), ('총', 4), ('액', 1), ('유지', 2), ('합의', 5), ('단독', 12), ('당', 9), ('원', 13), ('예산', 2), ('조', 4), ('증액', 1), ('요구', 3), ('지', 10), ('원금', 8), ('밀다', 1), ('붙이다', 1), ('법원', 7), ('피격', 3), ('공무원', 5), ('사망', 7), ('경위', 1), ('일부', 2), ('하라', 2), ('유족', 3), ('승소', 2), ('다른', 1), ('단지', 1), ('산다', 1), ('고', 8), ('놀이터', 6), ('아이', 4), ('신고', 7), ('이다', 4), ('대표', 12), ('슈시', 2), ('개', 11), ('굿모닝', 1), ('월드', 1), ('아니다', 10), ('한국어', 4), ('뿌리다', 1), ('유목민', 2), ('랴오허강', 1), ('농부', 1), ('언어', 1), ('수익', 1), ('공익', 1), ('먼저', 1), ('챙기다', 1), ('소', 3), ('대란', 5), ('최', 12), ('전방', 1), ('기업', 3), ('기재부', 1), ('상속세', 5), ('세율', 3), ('조정', 1), ('불가', 2), ('과표', 1), ('공유', 2), ('증여세', 1), ('부담', 1), ('줄다', 2), ('화웨이', 2), ('제품', 1), ('허가', 5), ('금지', 3), ('보안', 1), ('장', 4), ('비법', 1), ('서명', 5), ('정', 3), ('학', 1), ('대장동', 8), ('사업', 5), ('공고', 2), ('나기', 1), ('전', 9), ('성', 9), ('평가', 4), ('받다', 8), ('대선', 10), ('공약', 5), ('개발', 6), ('관여', 1), ('의혹', 12), ('선관위', 3), ('여가부', 3), ('차관', 8), ('등', 18), ('고발', 5), ('경찰', 7), ('내일', 4), ('민주', 2), ('노총', 2), ('노동자', 5), ('대회', 1), ('불법', 3), ('집회', 3), ('동자', 1), ('끝', 1), ('까지', 5), ('추적', 1), ('도이치', 6), ('모터', 6), ('스', 6), ('주가조작', 4), ('권', 9), ('오수', 5), ('회장', 5), ('장일', 1), ('구속', 4), ('심사', 3), ('종합', 2), ('보', 7), ('상류층', 1), ('주다', 5), ('의료', 3), ('인프라', 1), ('인력', 1), ('지원', 3), ('써다', 1), ('핫이슈', 1), ('김', 10), ('총리', 6), ('명', 27), ('식사', 5), ('방역', 7), ('수', 10), ('칙', 1), ('위반', 3), ('철저하다', 2), ('다시', 5), ('살피다', 2), ('박', 3), ('원주', 3), ('수석', 6), ('월성원전', 1), ('피의자', 2), ('논란', 7), ('계속', 3), ('수사', 4), ('질병', 3), ('청', 4), ('유가족', 2), ('사망자', 3), ('많다', 2), ('일일이', 1), ('설명', 1), ('못', 7), ('황당', 2), ('발언', 4), ('연장', 3), ('만배', 7), ('검찰', 9), ('조사억', 1), ('클럽', 1), ('조준', 1), ('가상', 7), ('자산', 7), ('과세', 2), ('년', 32), ('유예', 2), ('코인', 7), ('부동산', 3), ('개발이익', 2), ('배당', 2), ('청구', 6), ('머스크', 6), ('테슬라', 9), ('주식', 7), ('가까이', 1), ('진짜', 2), ('파다', 4), ('이준석', 13), ('퇴', 6), ('추다', 5), ('시키다', 2), ('국힘', 2), ('홈페이지', 4), ('난리', 2), ('왜', 5), ('밉다', 16), ('냉전', 2), ('경쟁', 2), ('좋다', 4), ('동맹', 5), ('대접', 1), ('외교관', 5), ('차량', 5), ('사고', 5), ('이탈', 1), ('측', 4), ('적법절차', 1), ('따르다', 2), ('협조', 2), ('변호사', 1), ('핵심', 3), ('세무', 1), ('청소년', 1), ('셧다운제', 1), ('만에', 10), ('폐지', 3), ('전쟁', 2), ('와중', 1), ('다음주', 1), ('처음', 1), ('만나다', 3), ('사건', 2), ('큐브', 2), ('주한', 4), ('접촉', 2), ('도주', 3), ('거부', 3), ('사직', 2), ('안', 15), ('가결', 2), ('내년', 4), ('때', 3), ('재보선', 1), ('곳', 6), ('재건축', 5), ('재개발조합', 4), ('관리', 1), ('부실', 4), ('의뢰', 1), ('회담', 2), ('앞두다', 5), ('화훼이', 1), ('금지법', 2), ('오피넷', 1), ('접속', 1), ('열풍', 2), ('부산', 1), ('유류', 6), ('세', 9), ('첫날', 5), ('얼마만큼', 1), ('내리다', 4), ('기후변화', 2), ('총회', 3), ('성명', 2), ('온난화', 1), ('범', 2), ('화석연료', 2), ('명시', 1), ('힘드다', 1), ('손준', 6), ('보내다', 2), ('고발장', 1), ('자료', 2), ('검색', 1), ('분', 6), ('부하', 1), ('직원', 3), ('통화', 1), ('택시', 2), ('들이다', 1), ('조치', 3), ('없이', 2), ('달아나다', 1), ('연', 10), ('임', 3), ('굳히다', 1), ('날', 3), ('통신', 2), ('장비', 2), ('반입', 1), ('제한', 6), ('홍영표', 2), ('쓸다', 1), ('반듯이', 5), ('진중권', 4), ('내', 8), ('로남불', 1), ('강령', 1), ('목포', 1), ('봉하마을', 2), ('찾다', 2), ('보복', 1), ('그렇다', 1), ('공작', 1), ('구속영장', 4), ('유', 1), ('태완', 1), ('동양', 1), ('티피', 1), ('티', 1), ('은탑', 1), ('산업', 4), ('훈장', 2), ('수훈', 1), ('풀이', 1), ('대상', 1), ('남성', 4), ('여학생', 1), ('소변', 2), ('테러', 3), ('달', 2), ('대부분', 1), ('증권사', 2), ('해외', 3), ('소수점', 3), ('거래', 3), ('가능하다', 2), ('듯', 3), ('대다', 15), ('여성', 10), ('뒤', 5), ('방뇨', 1), ('행위', 4), ('강제추행', 2), ('대법원', 1), ('무죄', 2), ('하급', 1), ('심', 2), ('파기', 1), ('환송', 1), ('모이다', 1), ('김부겸', 5), ('대본', 1), ('책임자', 1), ('로서', 1), ('깊이', 3), ('죄송', 2), ('아태', 3), ('지역', 3), ('회복', 7), ('공조', 2), ('강화', 1), ('대체', 1), ('어디', 4), ('시민', 1), ('주유소', 9), ('혼란', 2), ('한전', 3), ('빅스', 1), ('포', 1), ('개막', 1), ('석탄', 4), ('발전', 2), ('중단', 3), ('회귀', 1), ('돼다', 6), ('금융위', 6), ('사업자', 3), ('수리', 3), ('빗썸', 5), ('보류', 4), ('깜짝', 2), ('훈풍', 1), ('포스코', 4), ('계약', 2), ('소식', 2), ('강세', 1), ('나라', 6), ('박살', 5), ('강성범', 5), ('이미', 3), ('나다', 4), ('해경', 2), ('피살', 1), ('정보공개', 2), ('하', 6), ('라', 5), ('국방부', 1), ('제외', 1), ('하루', 5), ('확진', 9), ('넘다', 2), ('미접', 2), ('종자', 2), ('실내', 1), ('시설', 1), ('출입', 1), ('기득권', 1), ('싸우다', 1), ('노무현', 4), ('정신', 6), ('배우다', 4), ('트럼프', 4), ('의회', 4), ('폭동', 2), ('문서', 3), ('관', 5), ('중지', 1), ('요청', 2), ('항소', 2), ('제기', 1), ('접종', 7), ('백', 4), ('안전성', 4), ('바뀌다', 3), ('있다', 12), ('포커스', 2), ('이석현', 1), ('약', 1), ('주간', 1), ('방미', 1), ('여론', 1), ('확산', 3), ('기후', 4), ('협력', 6), ('공동', 3), ('발표', 4), ('오늘', 8), ('정상', 4), ('코로나', 19), ('공급망', 4), ('논의', 5), ('일제', 5), ('심상정', 6), ('대한민국', 1), ('시간', 14), ('빈곤', 1), ('사회', 2), ('통영', 1), ('길이', 1), ('밍크고래', 2), ('사체', 1), ('발견', 2), ('천만원', 2), ('위판', 1), ('왕', 1), ('일침', 1), ('놓다', 2), ('판사', 2), ('동', 6), ('포괄', 1), ('중요', 3), ('얀', 2), ('세다', 2), ('부스터', 5), ('샷', 5), ('사흘', 3), ('예약', 1), ('자의', 1), ('완료', 1), ('음주운전', 3), ('초보', 1), ('운전', 2), ('위험', 4), ('눈', 4), ('보이지', 1), ('안다', 1), ('집사', 1), ('에게', 2), ('관심', 3), ('보이다', 2), ('고양이', 1), ('반전', 1), ('매력', 1), ('면모', 1), ('드러나다', 1), ('연구', 2), ('결과', 2), ('기자', 2), ('마음대로', 1), ('바꾸다', 1), ('사드', 2), ('배치', 2), ('우리', 8), ('주권', 1), ('안보', 3), ('상황', 3), ('얼마', 2), ('든지', 2), ('업그레이드', 2), ('만난', 2), ('경', 6), ('제', 16), ('단체', 5), ('자동차', 3), ('부품', 5), ('살리다', 6), ('달라', 7), ('두', 5), ('번', 2), ('부르다', 1), ('공', 10), ('처', 6), ('재', 3), ('카드', 2), ('고심', 1), ('분쟁', 3), ('제공', 1), ('중재', 1), ('외교', 4), ('박차', 1), ('오스트리아', 3), ('슬로바키아', 1), ('신규', 7), ('천명', 3), ('역대', 2), ('대치', 1), ('초', 2), ('땅땅', 1), ('땅', 1), ('여야', 3), ('뭉', 2), ('개진', 1), ('차별금지법', 5), ('이철희', 1), ('축하', 4), ('난', 6), ('전달', 4), ('무산', 1), ('러', 2), ('반대', 3), ('의약품', 2), ('국산', 2), ('치료', 4), ('승인', 6), ('권고', 4), ('위중', 8), ('증', 9), ('네이멍구', 1), ('만의', 4), ('최대', 4), ('폭설', 4), ('동북지방', 1), ('피해', 5), ('속출', 2), ('변호', 2), ('사비', 2), ('대납', 2), ('사', 3), ('전날', 1), ('증거', 1), ('멸', 1), ('정황', 2), ('펀드', 2), ('정지', 1), ('및', 2), ('영업', 3), ('점', 2), ('폐쇄', 1), ('화이자', 6), ('건첫', 1), ('사례', 2), ('북', 2), ('동부', 1), ('기록', 2), ('산간', 1), ('쌓이다', 1), ('보고', 3), ('대원', 1), ('질책', 3), ('육', 1), ('책', 1), ('맞다', 8), ('무료', 2), ('성매매', 1), ('업다', 3), ('등장', 2), ('위원회', 2), ('출범', 1), ('인과성', 3), ('입', 5), ('주민', 7), ('뿔', 2), ('이웃', 3), ('해임', 5), ('추진', 6), ('도둑', 4), ('사퇴', 1), ('아파트', 7), ('홍보', 1), ('과거', 1), ('상상', 1), ('걸리다', 1), ('돌', 2), ('위드', 4), ('이후', 3), ('독일', 3), ('싱가포르', 1), ('일본', 1), ('상반', 1), ('모습', 1), ('열흘', 1), ('산림', 1), ('참여', 2), ('기대', 1), ('상당', 1), ('부분', 1), ('넷플릭스', 3), ('디즈니', 3), ('시', 6), ('턱밑', 1), ('추격', 2), ('한경닷컴', 1), ('담그다', 2), ('타결', 1), ('재난', 3), ('지급', 4), ('헬', 1), ('스케', 1), ('어', 1), ('국가', 6), ('별', 3), ('가속', 1), ('전망', 2), ('청년', 5), ('자리다', 1), ('연일', 4), ('삼치', 1), ('잡다', 2), ('가다', 3), ('횡재', 1), ('만원', 4), ('팔리다', 1), ('주차', 1), ('강대', 2), ('헌', 2), ('한라산', 1), ('아래', 1), ('마을', 2), ('농업인', 3), ('상', 7), ('쾌거', 1), ('유착', 1), ('조폭', 2), ('출신', 2), ('박철민', 2), ('결혼식', 1), ('참석', 3), ('축의금', 1), ('수업', 5), ('연봉', 4), ('원로', 3), ('교사', 5), ('경북', 4), ('전국', 9), ('하고', 1), ('억', 10), ('전용', 1), ('사무실', 2), ('도황제', 1), ('사주', 2), ('특검', 4), ('주도', 2), ('싸움', 2), ('드디어', 2), ('찾아내다', 2), ('다모', 2), ('든', 1), ('변', 2), ('효과', 1), ('슈퍼', 1), ('항체', 3), ('여고생', 1), ('몰래', 1), ('연극배우', 1), ('대법', 2), ('뒤집혔다', 1), ('언론', 3), ('한국', 9), ('무능', 1), ('덕', 2), ('위기', 4), ('넘기다', 2), ('김종인', 8), ('선대', 1), ('위서', 1), ('허수아비', 2), ('순', 1), ('전권', 1), ('과는', 1), ('별개', 1), ('교장', 1), ('황제', 1), ('교원', 1), ('교육부', 1), ('의견서', 1), ('양', 6), ('향', 3), ('국회의원', 1), ('특별', 1), ('보좌', 3), ('성추행', 2), ('혐의', 4), ('징역', 7), ('선고', 2), ('후보', 7), ('박일', 1), ('광주', 1), ('전남', 1), ('방문', 2), ('남기다', 1), ('반응속도', 1), ('미치다', 1), ('밟다', 3), ('넘어지다', 1), ('오토바이', 3), ('핸들', 2), ('꺾다', 2), ('피', 2), ('차주', 1), ('비정규직', 1), ('촛불집회', 1), ('차별', 1), ('철폐', 1), ('구본준', 1), ('신동빈', 1), ('속', 4), ('구원투수', 1), ('나선', 4), ('들다', 1), ('김혜경', 1), ('손', 2), ('꼭', 4), ('잡고', 2), ('구급차', 4), ('기원', 3), ('년전', 2), ('요하', 3), ('일대', 1), ('농민', 1), ('천만', 1), ('간통', 1), ('회초리', 2), ('대', 5), ('생중계', 1), ('브리핑', 2), ('서울시', 2), ('의장', 1), ('김어준', 1), ('공장', 1), ('자랑', 1), ('여기', 1), ('시속', 1), ('전과자', 2), ('블', 1), ('링컨', 1), ('장관', 3), ('건강', 1), ('화천', 2), ('대유', 1), ('이틀', 3), ('불응', 2), ('동안', 3), ('걸다', 2), ('출근', 2), ('차', 3), ('기름', 1), ('넣다', 3), ('인하', 5), ('소방관', 1), ('희생', 1), ('헌신', 1), ('감사', 1), ('드리다', 1), ('건드리다', 4), ('저', 1), ('자신감', 1), ('벌써', 1), ('추월', 1), ('제의', 2), ('리', 5), ('비다', 4), ('돌풍', 1), ('탈', 5), ('원전', 11), ('레임덕', 2), ('임기', 2), ('말', 2), ('왁자지껄', 1), ('날금', 1), ('탑', 1), ('영덕', 1), ('집값', 1), ('상승', 3), ('주춤', 2), ('매다', 1), ('붙다', 1), ('서울', 2), ('매수', 2), ('심리', 2), ('반등', 2), ('어쩌다', 1), ('진앙', 1), ('지로', 1), ('사활', 2), ('지금', 3), ('해도', 1), ('끝내', 1), ('조건', 1), ('부', 1), ('꼼수', 4), ('재택', 1), ('플러스', 1), ('포드', 3), ('스타트업', 1), ('회사', 1), ('분리', 1), ('대사', 4), ('많이', 1), ('부족', 2), ('해결', 2), ('을', 3), ('연대', 1), ('총파업', 1), ('예고', 1), ('진료', 2), ('차질', 1), ('최악', 1), ('도보', 1), ('벗다', 1), ('거나', 1), ('마찬가지', 1), ('마트', 1), ('쫓겨나다', 1), ('어떻다', 2), ('입다', 1), ('오다', 4), ('권력', 1), ('미얀마', 1), ('억류', 1), ('언론인', 1), ('형', 4), ('임원', 3), ('미만', 1), ('심근', 6), ('염', 5), ('확률', 1), ('나가다', 1), ('배', 5), ('의원', 5), ('실형', 2), ('빌리다', 1), ('상여금', 2), ('잔치', 2), ('운영', 4), ('재개발', 1), ('조합', 2), ('철퇴', 1), ('대위', 3), ('위성정당', 5), ('방지법', 3), ('잘못', 2), ('친척', 1), ('특보', 1), ('명절', 1), ('선물', 1), ('공모', 1), ('여부', 1), ('방', 2), ('사람', 5), ('집착', 2), ('실패', 1), ('고리', 1), ('인방', 2), ('박근혜', 1), ('국내', 5), ('강력', 1), ('개정면', 1), ('까닭', 2), ('광고', 2), ('기사', 4), ('처럼', 2), ('연합뉴스', 5), ('앞', 3), ('포털', 5), ('다지다', 1), ('사찰', 1), ('남', 3), ('진에어', 3), ('발권', 1), ('장애', 1), ('공항', 3), ('아수라', 1), ('수백', 1), ('줄', 3), ('서다', 1), ('종이', 2), ('수속', 1), ('청와대', 1), ('김주하', 2), ('공식', 1), ('종로', 1), ('구청', 1), ('과태료', 1), ('방침', 2), ('사용', 5), ('철인', 1), ('종', 1), ('최숙현', 1), ('선수', 1), ('가혹', 3), ('감독', 1), ('확정', 2), ('저격', 3), ('꼴', 1), ('만취', 2), ('벤츠', 2), ('녀', 1), ('홍준표', 2), ('일요일', 1), ('꿈', 1), ('플랫폼', 1), ('하청', 2), ('감찰', 3), ('기다', 2), ('부공', 1), ('연락', 1), ('안해', 2), ('사전', 1), ('교감', 1), ('설', 2), ('며칠', 1), ('주유', 2), ('미루다', 3), ('알뜰', 3), ('직영', 3), ('들썩', 1), ('주자', 1), ('반성', 1), ('발등', 1), ('불', 3), ('떨어지다', 1), ('휴', 3), ('젤', 3), ('그룹', 2), ('어쩌나', 1), ('검토', 3), ('돌파', 3), ('감염', 4), ('적다', 3), ('우선', 1), ('대학동', 1), ('기와', 1), ('완성', 1), ('생산', 2), ('실적', 1), ('반토막', 1), ('일감', 1), ('끊다', 2), ('업체', 2), ('폐업', 1), ('스스로', 1), ('지도자', 1), ('오르다', 1), ('길', 2), ('열다', 1), ('휘발유', 1), ('값', 4), ('린다', 3), ('생활', 1), ('성장', 1), ('인플레', 1), ('일시', 2), ('금리', 1), ('인상', 1), ('불지', 1), ('피다', 1), ('또', 10), ('반박', 2), ('이남', 1), ('숙', 1), ('이윤자', 1), ('전주시', 1), ('농업', 1), ('농촌', 1), ('기여', 1), ('공로', 1), ('감사패', 1), ('북한', 2), ('상원의원', 1), ('반미', 1), ('경악', 1), ('심각하다', 1), ('결례', 1), ('신임', 1), ('기', 2), ('결격', 1), ('사유', 1), ('숨지다', 1), ('보상금', 2), ('피해자', 1), ('울분', 2), ('성관계', 1), ('유포', 1), ('종근당', 1), ('장남', 1), ('심다', 2), ('집행유예', 1), ('김건희', 1), ('곧', 1), ('소환', 7), ('관측', 1), ('이렇게', 1), ('크다', 5), ('영향', 2), ('생각', 1), ('장시간', 1), ('생계', 1), ('보장', 1), ('함께', 2), ('에서', 11), ('건', 5), ('백악관', 3), ('기각', 1), ('불충분', 1), ('염심', 1), ('낭염', 1), ('명도', 1), ('미납', 1), ('돌리다', 2), ('북부', 1), ('농', 1), ('경민', 1), ('요소', 2), ('수로', 1), ('뭉치다', 1), ('멕시코', 4), ('톤', 1), ('제주도', 1), ('수상', 1), ('영예', 1), ('강', 1), ('상민', 1), ('위대하다', 1), ('거장', 1), ('마티스', 1), ('전시회', 1), ('개최', 1), ('얼리다', 3), ('버드', 3), ('티켓', 3), ('오픈', 1), ('이상', 3), ('고령', 1), ('운전자', 2), ('인지', 1), ('능력', 1), ('검사', 1), ('면허', 1), ('시험', 1), ('장서', 1), ('확인', 1), ('분간', 1), ('매춘', 1), ('고객', 1), ('유치', 1), ('이벤트', 2), ('화제', 1), ('남욱정영학', 1), ('박영수', 3), ('로펌', 3), ('입찰', 1), ('준비', 1), ('부자', 1), ('개편', 2), ('뒷짐', 1), ('선거', 3), ('개월전', 1), ('앞서다', 1), ('승', 1), ('패', 1), ('에만', 1), ('단일', 1), ('화로', 1), ('승부', 1), ('뒤지다', 4), ('반드시', 1), ('정치권', 1), ('떠들다', 1), ('썩', 1), ('매', 3), ('타', 2), ('버스', 3), ('올라타다', 1), ('완전하다', 2), ('폭격기', 2), ('벨라루스', 4), ('출격', 1), ('루카셴코', 1), ('핵', 2), ('가능', 3), ('재소', 1), ('환조', 1), ('성은', 2), ('김웅', 1), ('모두', 2), ('거짓말', 1), ('수능', 1), ('고등학교', 1), ('격', 1), ('전환', 1), ('이래', 1), ('트윗', 2), ('올라오다', 1), ('서학', 1), ('개미', 1), ('커밍아웃', 1), ('젠', 1), ('미몽', 1), ('깨어나다', 1), ('일문일답', 1), ('동아', 2), ('태차', 2), ('관보', 2), ('의존', 1), ('야', 2), ('신기록', 1), ('비상', 3), ('규범', 1), ('기반', 2), ('질서', 1), ('주요', 1), ('파트너', 1), ('패배', 1), ('이회창', 2), ('다르다', 1), ('닮다', 1), ('발생', 2), ('이익', 4), ('결정', 2), ('부당', 1), ('알권리', 1), ('제약', 1), ('망하다', 1), ('배급', 2), ('단', 1), ('에서만', 1), ('벌어지다', 1), ('간부', 1), ('대화', 1), ('담기다', 2), ('내부', 1), ('메신저', 1), ('확보', 8), ('투기', 1), ('판', 1), ('깔다', 1), ('셈', 1), ('보조금', 1), ('단계', 1), ('초안', 2), ('제발', 1), ('키스', 1), ('해주다', 1), ('음식', 2), ('배달', 1), ('아기', 1), ('엄마', 1), ('지지율', 6), ('부정', 2), ('매주', 1), ('씩', 3), ('뉴시스', 1), ('게시판', 2), ('모바일', 2), ('화면', 2), ('사라지다', 2), ('방울', 1), ('현장', 2), ('줌', 1), ('오', 1), ('겜', 1), ('출혈', 1), ('견디다', 1), ('갚다', 1), ('감금', 3), ('맵다', 1), ('먹이', 2), ('며', 2), ('대들다', 2), ('수도권', 3), ('최저', 1), ('마포', 1), ('집', 3), ('팔자', 1), ('스포츠', 1), ('경기장', 1), ('콘서트장', 1), ('인원', 1), ('연내', 1), ('경선', 1), ('과대', 1), ('표집', 1), ('정기', 1), ('경쟁력', 1), ('무관', 1), ('가격', 2), ('북새통', 1), ('용', 3), ('운송', 1), ('필수', 1), ('선박', 1), ('투입', 1), ('오월', 2), ('모독', 1), ('똑바로', 1), ('의미', 3), ('뉴스큐', 1), ('치다', 1), ('수도', 3), ('시대', 2), ('제대로', 1), ('읽다', 2), ('강아지', 2), ('알', 2), ('키우다', 1), ('여우', 1), ('닭', 2), ('오리', 1), ('사냥', 2), ('간첩', 1), ('질', 3), ('출하', 1), ('해시태그', 1), ('시사', 1), ('화물차', 3), ('멈추다', 2), ('급등', 4), ('매점매석', 1), ('현대', 1), ('바이오', 3), ('먹다', 1), ('보위', 1), ('환자', 5), ('째', 3), ('눈부시다', 1), ('아름답다', 1), ('원숭이', 1), ('안락사', 1), ('구진', 1), ('모든', 1), ('차단', 2), ('전투기', 1), ('늘다', 1), ('정의당', 1), ('아', 2), ('파마', 2), ('리서치', 2), ('보툴리눔톡신', 2), ('품목', 1), ('회수', 1), ('폐기', 1), ('절차', 1), ('이화영', 1), ('킨텍스', 1), ('법인', 1), ('수천', 1), ('유용', 1), ('맹탕', 1), ('툰베리', 1), ('유엔', 1), ('선포', 1), ('청원', 1), ('뒤늦다', 1), ('게', 3), ('반려견', 1), ('정체', 1), ('새', 2), ('싶다', 2), ('년생', 1), ('창업', 1), ('방석', 1), ('연결', 1), ('면담', 2), ('문제', 3), ('불편하다', 1), ('겪다', 1), ('부탁', 1), ('무력감', 1), ('울', 2), ('국장', 1), ('휘청이다', 1), ('우주여행', 1), ('우주', 1), ('인간', 1), ('비싸다', 1), ('혁신', 2), ('서비스', 3), ('지정', 2), ('김수종', 1), ('칼럼', 1), ('비언', 1), ('뿐', 1), ('인과관계', 1), ('난폭', 1), ('은색', 1), ('쏘나타', 1), ('매일', 2), ('뜨다', 1), ('긴밀', 1), ('협의', 1), ('반기문', 1), ('탄소', 3), ('중립', 3), ('론', 2), ('에너지', 1), ('무책임', 1), ('비판', 2), ('지도', 1), ('앱', 2), ('식당', 1), ('리뷰', 2), ('송치', 1), ('거대', 2), ('반페미니즘', 1), ('기수', 1), ('자처', 1), ('추락', 1), ('장주', 1), ('오징어', 1), ('게임', 1), ('승자', 2), ('애원', 1), ('국회', 3), ('개다', 1), ('누구', 1), ('통과', 1), ('기술', 1), ('특허분쟁', 1), ('국립보건원', 2), ('아들', 2), ('유서', 1), ('카톡', 1), ('텔레', 1), ('그램', 1), ('댓글', 1), ('묵살', 1), ('진실', 1), ('알리', 1), ('늑장', 1), ('압박', 2), ('마스크', 2), ('판박이', 1), ('이윤', 1), ('표심', 2), ('잡기', 3), ('매몰', 1), ('인터내셔널', 3), ('호주', 5), ('리터', 1), ('다단계', 1), ('일상', 3), ('중론', 1), ('비핵화', 1), ('주도하다', 1), ('국익', 1), ('특허권', 1), ('배분', 1), ('아무리', 1), ('강조', 1), ('지나치다', 1), ('경신', 1), ('추가', 2), ('베트남', 4), ('구해', 1), ('금융투자', 1), ('징계', 2), ('회', 1), ('당장', 1), ('소환조사', 1), ('요양원', 1), ('집단', 1), ('노컷', 1), ('브이', 1), ('김정재', 1), ('끼어들다', 1), ('이야', 2), ('부윤', 1), ('갈래', 1), ('배경', 1), ('그린', 1), ('택', 1), ('노미', 1), ('톱', 1), ('지휘', 1), ('개월치', 2), ('사우디', 1), ('추', 1), ('가물', 1), ('량', 1), ('대사관', 1), ('추돌', 1), ('설계', 1), ('제정', 1), ('외치', 1), ('내놓다', 1), ('답', 1), ('나중', 1), ('이명박', 1), ('연합', 1), ('지속', 1), ('승객', 3), ('화물', 1), ('채우다', 1), ('대한항공', 2), ('작년', 1), ('미성년', 1), ('여관', 1), ('시범', 3), ('도입', 2), ('달성', 1), ('운전사', 1), ('사려', 1), ('수면', 1), ('연루', 1), ('지지', 1), ('세력', 1), ('화하다', 1), ('신경', 1), ('쓰다', 1), ('취소', 1), ('화학', 2), ('불똥', 1), ('퇴직금', 1), ('다음', 1), ('쯤', 1), ('아내', 2), ('당하다', 3), ('불닭', 1), ('소스', 1), ('빵', 1), ('억지로', 1), ('천연가스', 1), ('납부', 2), ('대남', 1), ('병상', 2), ('강행', 1), ('두다', 1), ('진행', 1), ('연속', 2), ('률', 1), ('서버', 2), ('무너지다', 1), ('속수무책', 1), ('백업', 1), ('보호', 1), ('강등', 1), ('편집', 1), ('여러', 1), ('과정', 1), ('남아', 1), ('기온', 1), ('폭', 2), ('위해', 1), ('노력', 1), ('나오다', 1), ('예측', 1), ('긴급', 1), ('계획', 2), ('만여', 1), ('악화', 1), ('중도', 1), ('진보', 1), ('통합', 3), ('아침', 1), ('발', 2), ('묶인', 1), ('본사', 1), ('메인', 1), ('먹통', 1), ('원인', 2), ('최고', 1), ('치', 1), ('강화하다', 2), ('분양', 1), ('개인정보', 1), ('빼', 1), ('건설', 2), ('외국인', 1), ('대포통장', 1), ('발목', 1), ('잡히다', 1), ('불투명', 1), ('한국인', 1), ('빅데이터', 1), ('분석', 1), ('반응', 1), ('과학', 1), ('규명', 1), ('박병주', 1), ('위원장', 1), ('인터뷰', 1), ('농경지', 1), ('중앙', 1), ('기름값', 1), ('북적', 1), ('완화', 1), ('빨갛다', 1), ('면전', 1), ('한일합방', 1), ('탓', 1), ('반', 1), ('페미', 1), ('글', 2), ('간담', 1), ('회서', 1), ('질문', 1), ('뻔돌', 1), ('쓰러지다', 3), ('여전', 1), ('수사의뢰', 1), ('월성', 1), ('인선', 1), ('김대중', 2), ('좇', 1), ('외치다', 2), ('엇갈리다', 1), ('김포', 2), ('장릉', 1), ('층', 1), ('높이', 1), ('맞추다', 1), ('사단', 1), ('총력전', 1), ('최초', 1), ('선보이다', 1), ('대규모', 2), ('게티', 2), ('이미지', 2), ('사진전', 2), ('시작', 2), ('법안', 1), ('우려', 1), ('민노총', 1), ('도심', 1), ('시위', 1), ('엄정', 1), ('일본엔', 1), ('한마디', 1), ('웃다', 1), ('이억원', 1), ('기재', 1), ('수입', 2), ('예', 1), ('비분', 1), ('여파', 1), ('가입', 1), ('자수', 1), ('토막', 1), ('주시', 1), ('함정', 1), ('몸값', 1), ('높아지다', 1), ('전세계', 1), ('인데', 1), ('나르다', 1), ('불발', 1), ('늦가을', 1), ('나들이', 1), ('망치다', 1), ('묶이다', 1), ('호', 1), ('새벽', 1), ('업추비', 1), ('무단', 1), ('적발', 2), ('놀다', 1), ('투표', 1), ('베팅', 1), ('포위', 1), ('망', 1), ('동참', 1), ('촉구', 1), ('억천', 1), ('산', 3), ('가책', 2), ('느끼다', 2), ('베이징올림픽', 2), ('초청', 2), ('가능성', 1), ('자다', 1), ('듣다', 4), ('윤', 1), ('더욱', 1), ('승률', 1), ('무슨', 1), ('일이', 2), ('즉각', 1), ('반영', 1), ('이제', 1), ('찬물', 1), ('끼', 1), ('얹다', 1), ('식약처', 1), ('연방', 1), ('제동', 1), ('헛소리', 1), ('잡', 1), ('허경영', 2), ('김동연', 1), ('안철수', 1), ('탈당', 1), ('대가', 1), ('던지다', 1), ('보이', 1), ('천억원', 3), ('남욱', 1), ('오후', 1), ('원천', 1), ('노릇', 1), ('없다윤', 1), ('성공', 1), ('도배', 1), ('지지자', 1), ('불만', 1), ('폭주', 1), ('탄핵', 1), ('쇄도', 1), ('가장', 1), ('오른', 1), ('마이너스', 1), ('현실', 3), ('섬나라', 1), ('투발루', 1), ('바다', 1), ('연설', 1), ('주일', 1), ('행정명령', 1), ('동원', 1), ('불통', 1), ('리빙톡', 1), ('위', 1), ('성호', 1), ('깨우다', 1), ('난민', 2), ('국경', 2), ('긴장', 2), ('러시아', 1), ('배후', 1), ('말로', 1), ('방지', 1), ('깜빡', 1), ('사장', 2), ('님', 1), ('살찌다', 1), ('윤미향', 1), ('제출', 1), ('이제야', 1), ('심의', 1), ('착수', 1), ('출발', 1), ('이렇다', 1), ('라고', 1), ('대통령직', 1), ('어느', 1), ('정도', 1), ('왕릉', 2), ('뷰', 2), ('관우', 1), ('죄송하다', 1), ('자신', 1), ('외신', 1), ('띄우다', 1), ('외출', 1), ('멍멍', 1), ('짖다', 1), ('닭장', 1), ('드러내다', 2), ('야생', 1), ('본색', 1), ('커플', 1), ('이라고', 1), ('공원', 2), ('천백', 1), ('명대', 1), ('멀어지다', 1), ('노', 1), ('온실가스', 2), ('감축', 2), ('각국', 1), ('목소리', 1), ('서울대', 1), ('병원', 1), ('간호사', 1), ('저희', 1), ('글로벌', 1), ('이름', 1), ('푸틴', 1), ('가스', 1), ('검찰총장', 1), ('폰', 1), ('압수', 1), ('규정', 1), ('보완', 1), ('합', 1), ('의문', 1), ('일보', 1), ('후퇴', 1), ('가지다', 1), ('존재', 1), ('세포', 1), ('견제', 1), ('관료', 1), ('이례', 1), ('중장비', 1), ('설현', 1), ('의식', 1), ('훈수', 1), ('상태', 1), ('몰다', 1), ('인부', 1), ('숨다', 1), ('두번째', 1), ('윗', 1), ('집중', 1), ('추궁', 1), ('개그맨', 1), ('되돌리다', 1), ('직격', 1), ('차기', 1), ('다자', 1), ('대결', 1), ('치열', 1), ('벌금', 1), ('내주다', 1), ('쇼', 1), ('전화하다', 1), ('줄빠따', 1), ('승용차', 1), ('천대', 1), ('재향군인', 1), ('무명', 1), ('용다', 1), ('묘', 1), ('개방', 1), ('연말', 1), ('주의보', 1), ('리비', 1), ('안이', 1), ('상장', 1), ('미터', 1), ('나무', 1), ('경관', 1), ('대책', 1), ('자유무역', 1), ('안정', 1), ('우버', 1), ('장애인', 1), ('손님', 1), ('대기', 1), ('요금', 1), ('고소', 1), ('생색', 1), ('품질', 1), ('낮다', 1), ('개입', 1), ('관권', 1), ('혜', 1), ('아빠', 1), ('찬스', 1), ('알다', 1), ('폴란드', 1), ('군사', 1), ('고조', 1), ('두산', 1), ('아프다', 1), ('손가락', 1), ('결국', 1), ('팔', 1), ('누가', 1), ('머리', 1), ('싸다', 1), ('억만원', 1), ('특징', 1), ('크래프트', 1), ('주가', 1), ('관련', 1), ('주목', 1), ('본문', 1), ('간통죄', 1), ('채찍', 2), ('당한', 1), ('집행정지', 1), ('인용', 1), ('보툴', 1), ('렉스', 1), ('재개', 1), ('장기', 1), ('집권', 1), ('아체', 1), ('한수원', 1), ('원하다', 1), ('늘리다', 1), ('유가', 1), ('한시', 1), ('가보다', 1), ('가득', 1), ('부연', 2), ('납', 2), ('확대', 2), ('필요', 2), ('조정은', 1), ('신중하다', 1), ('메르켈', 1), ('독', 1), ('의무', 1), ('도전', 1), ('결코', 1), ('필요하다', 1), ('외면', 1), ('아문', 1), ('매경', 1), ('서경', 1), ('동상', 1), ('이몽', 1), ('논쟁', 1), ('표', 1), ('구애', 1), ('젠더', 1), ('쟁', 1), ('점화', 1), ('황교익', 1), ('비뚤어지다', 1), ('신념', 1), ('신탁', 1), ('으로도', 2), ('억원', 1), ('어치', 1), ('매도', 1), ('국토부', 1), ('합동', 1), ('점검', 1), ('법령', 1), ('매일신문', 1), ('진원', 1), ('인터', 1), ('만대', 1), ('풀리다', 1), ('서킷브레이커', 1), ('발동', 1), ('고비', 1), ('러이', 1), ('전시장', 1), ('휩쓸다', 1), ('전락', 1), ('하나', 1), ('일로', 1), ('분할', 1), ('분기', 1), ('원년', 1), ('끄다', 1), ('말르다', 1), ('관계', 1), ('증명서', 1), ('발급', 1), ('각', 1), ('나흘', 1), ('조천억원', 1), ('황금알', 1), ('특허', 1), ('갈등', 1), ('외교부', 1), ('팀', 1), ('안일', 1), ('환', 1), ('전격', 1), ('경질', 1), ('특허청장', 1), ('자가', 1), ('격리', 1), ('발레리노', 1), ('해고', 1), ('위법', 1), ('계승', 1), ('열', 1), ('뺑소니', 1), ('적용', 1), ('악어', 1), ('물리다', 1), ('채', 1), ('강물', 1), ('끌리다', 1), ('맥가이버칼', 1), ('산불', 3), ('코알라', 1), ('마리', 1), ('모르다', 1), ('태풍', 3), ('통산', 1), ('재민', 1), ('가혹하다', 1), ('김지민', 1), ('강원도', 1), ('비통하다', 1), ('참담하다', 1), ('심경', 1), ('급', 1), ('강풍', 1), ('예보', 1), ('마이', 1), ('삭', 1), ('이선', 1)])\n"
          ]
        }
      ]
    },
    {
      "cell_type": "code",
      "metadata": {
        "id": "UsHlGUSepYHk",
        "colab": {
          "base_uri": "https://localhost:8080/"
        },
        "outputId": "48984231-0aeb-4686-ed3c-d742337cc911"
      },
      "source": [
        "threshold = 3\n",
        "total_cnt = len(tokenizer.word_index) # 단어의 수\n",
        "rare_cnt = 0 # 등장 빈도수가 threshold보다 작은 단어의 개수를 카운트\n",
        "total_freq = 0 # 훈련 데이터의 전체 단어 빈도수 총 합\n",
        "rare_freq = 0 # 등장 빈도수가 threshold보다 작은 단어의 등장 빈도수의 총 합\n",
        "\n",
        "# 단어와 빈도수의 쌍(pair)을 key와 value로 받는다.\n",
        "for key, value in tokenizer.word_counts.items():\n",
        "    total_freq = total_freq + value\n",
        "\n",
        "    # 단어의 등장 빈도수가 threshold보다 작으면\n",
        "    if(value < threshold):\n",
        "        rare_cnt = rare_cnt + 1\n",
        "        rare_freq = rare_freq + value\n",
        "\n",
        "print('단어 집합(vocabulary)의 크기 :',total_cnt)\n",
        "print('등장 빈도가 %s번 이하인 희귀 단어의 수: %s'%(threshold - 1, rare_cnt))\n",
        "print(\"단어 집합에서 희귀 단어의 비율:\", (rare_cnt / total_cnt)*100)\n",
        "print(\"전체 등장 빈도에서 희귀 단어 등장 빈도 비율:\", (rare_freq / total_freq)*100)"
      ],
      "execution_count": 90,
      "outputs": [
        {
          "output_type": "stream",
          "name": "stdout",
          "text": [
            "단어 집합(vocabulary)의 크기 : 2068\n",
            "등장 빈도가 2번 이하인 희귀 단어의 수: 1540\n",
            "단어 집합에서 희귀 단어의 비율: 74.46808510638297\n",
            "전체 등장 빈도에서 희귀 단어 등장 빈도 비율: 38.740028635712825\n"
          ]
        }
      ]
    },
    {
      "cell_type": "code",
      "metadata": {
        "id": "yWBE_pZlszWu",
        "colab": {
          "base_uri": "https://localhost:8080/"
        },
        "outputId": "d5e251b0-1579-4559-cc79-ca2554828c99"
      },
      "source": [
        "vocab_size = total_cnt - rare_cnt + 1\n",
        "print('단어 집합의 크기 :',vocab_size)"
      ],
      "execution_count": 91,
      "outputs": [
        {
          "output_type": "stream",
          "name": "stdout",
          "text": [
            "단어 집합의 크기 : 529\n"
          ]
        }
      ]
    },
    {
      "cell_type": "code",
      "metadata": {
        "id": "pFPM7drbqGEz"
      },
      "source": [
        "tokenizer = Tokenizer(vocab_size) \n",
        "tokenizer.fit_on_texts(X_train)\n",
        "X_train = tokenizer.texts_to_sequences(X_train)\n",
        "X_test = tokenizer.texts_to_sequences(X_test)"
      ],
      "execution_count": 92,
      "outputs": []
    },
    {
      "cell_type": "code",
      "metadata": {
        "id": "9pAvQvpo_Acb"
      },
      "source": [
        "y_train = np.array(train_data['label'])\n",
        "y_test = np.array(test_data['label'])"
      ],
      "execution_count": 93,
      "outputs": []
    },
    {
      "cell_type": "code",
      "metadata": {
        "id": "MGCTzFOJ_tpC",
        "colab": {
          "base_uri": "https://localhost:8080/"
        },
        "outputId": "127df5a6-e33f-4f85-f1a6-d36bb9bd425f"
      },
      "source": [
        "print(len(X_train))\n",
        "print(len(y_train))"
      ],
      "execution_count": 94,
      "outputs": [
        {
          "output_type": "stream",
          "name": "stdout",
          "text": [
            "487\n",
            "487\n"
          ]
        }
      ]
    },
    {
      "cell_type": "code",
      "metadata": {
        "id": "T-jxCOg4ra7i",
        "colab": {
          "base_uri": "https://localhost:8080/"
        },
        "outputId": "6e49a49e-483f-47b9-ac58-1ba9d72575f2"
      },
      "source": [
        "print(X_train[:3])"
      ],
      "execution_count": 95,
      "outputs": [
        {
          "output_type": "stream",
          "name": "stdout",
          "text": [
            "[[14, 95, 41, 345, 8], [174, 10, 175, 247, 21], [346, 347, 123, 22]]\n"
          ]
        }
      ]
    },
    {
      "cell_type": "code",
      "metadata": {
        "id": "M_k8SQCH9BLY"
      },
      "source": [
        "drop_train = [index for index, sentence in enumerate(X_train) if len(sentence) < 1]\n",
        "drop_test = [index for index, sentence in enumerate(X_test) if len(sentence) < 1]"
      ],
      "execution_count": 96,
      "outputs": []
    },
    {
      "cell_type": "code",
      "metadata": {
        "id": "Aq_nvde69G-n",
        "colab": {
          "base_uri": "https://localhost:8080/"
        },
        "outputId": "ed8c77d5-aa5c-4b50-8c91-77893abf0088"
      },
      "source": [
        "print(drop_train)"
      ],
      "execution_count": 97,
      "outputs": [
        {
          "output_type": "stream",
          "name": "stdout",
          "text": [
            "[145, 238, 409, 461]\n"
          ]
        }
      ]
    },
    {
      "cell_type": "code",
      "metadata": {
        "id": "G-iV5ZGw9Luf",
        "colab": {
          "base_uri": "https://localhost:8080/"
        },
        "outputId": "e43d5862-8da4-46ed-dc47-f5b34e6c312c"
      },
      "source": [
        "len(drop_train)"
      ],
      "execution_count": 98,
      "outputs": [
        {
          "output_type": "execute_result",
          "data": {
            "text/plain": [
              "4"
            ]
          },
          "metadata": {},
          "execution_count": 98
        }
      ]
    },
    {
      "cell_type": "code",
      "metadata": {
        "id": "AwHbwYxP9NN9",
        "colab": {
          "base_uri": "https://localhost:8080/"
        },
        "outputId": "ff6034e0-b7b2-4bd1-ba3f-d905071e75e5"
      },
      "source": [
        "X_train = np.delete(X_train, drop_train, axis=0)\n",
        "y_train = np.delete(y_train, drop_train, axis=0)"
      ],
      "execution_count": 99,
      "outputs": [
        {
          "output_type": "stream",
          "name": "stderr",
          "text": [
            "/usr/local/lib/python3.7/dist-packages/numpy/core/_asarray.py:83: VisibleDeprecationWarning: Creating an ndarray from ragged nested sequences (which is a list-or-tuple of lists-or-tuples-or ndarrays with different lengths or shapes) is deprecated. If you meant to do this, you must specify 'dtype=object' when creating the ndarray\n",
            "  return array(a, dtype, copy=False, order=order)\n"
          ]
        }
      ]
    },
    {
      "cell_type": "code",
      "metadata": {
        "id": "s3YMzyGM_DAf",
        "colab": {
          "base_uri": "https://localhost:8080/"
        },
        "outputId": "ce2a97bf-b675-47e2-f2bd-a3391081c780"
      },
      "source": [
        "print(len(X_train))\n",
        "print(len(y_train))"
      ],
      "execution_count": 100,
      "outputs": [
        {
          "output_type": "stream",
          "name": "stdout",
          "text": [
            "483\n",
            "483\n"
          ]
        }
      ]
    },
    {
      "cell_type": "code",
      "metadata": {
        "id": "yqRWvf59J-Tk",
        "colab": {
          "base_uri": "https://localhost:8080/"
        },
        "outputId": "2a5308ab-df9b-409d-a123-1d7633643c2b"
      },
      "source": [
        "print(len(X_test))\n",
        "print(len(y_test))"
      ],
      "execution_count": 101,
      "outputs": [
        {
          "output_type": "stream",
          "name": "stdout",
          "text": [
            "89\n",
            "89\n"
          ]
        }
      ]
    },
    {
      "cell_type": "code",
      "metadata": {
        "id": "B7A7iBA0KBpR",
        "colab": {
          "base_uri": "https://localhost:8080/"
        },
        "outputId": "a939808f-8666-4ede-b45c-11b8c2358266"
      },
      "source": [
        "X_test = np.delete(X_test, drop_test, axis=0)"
      ],
      "execution_count": 102,
      "outputs": [
        {
          "output_type": "stream",
          "name": "stderr",
          "text": [
            "/usr/local/lib/python3.7/dist-packages/numpy/core/_asarray.py:83: VisibleDeprecationWarning: Creating an ndarray from ragged nested sequences (which is a list-or-tuple of lists-or-tuples-or ndarrays with different lengths or shapes) is deprecated. If you meant to do this, you must specify 'dtype=object' when creating the ndarray\n",
            "  return array(a, dtype, copy=False, order=order)\n"
          ]
        }
      ]
    },
    {
      "cell_type": "code",
      "metadata": {
        "id": "FPUtE1I6N40N"
      },
      "source": [
        "y_test = np.delete(y_test, drop_test, axis=0)"
      ],
      "execution_count": 103,
      "outputs": []
    },
    {
      "cell_type": "code",
      "metadata": {
        "id": "y1mB7XX_KF09",
        "colab": {
          "base_uri": "https://localhost:8080/"
        },
        "outputId": "e4f76d6a-1ed2-440a-eaee-5e69b70fddbe"
      },
      "source": [
        "print(len(X_test))\n",
        "print(len(y_test))"
      ],
      "execution_count": 104,
      "outputs": [
        {
          "output_type": "stream",
          "name": "stdout",
          "text": [
            "88\n",
            "88\n"
          ]
        }
      ]
    },
    {
      "cell_type": "code",
      "metadata": {
        "id": "j6kcy8AKreKv",
        "colab": {
          "base_uri": "https://localhost:8080/",
          "height": 315
        },
        "outputId": "7f5c498e-6de5-46b8-b7b1-46a0724f2a7d"
      },
      "source": [
        "print('기사의 최대 길이 :',max(len(l) for l in X_train))\n",
        "print('기사의 평균 길이 :',sum(map(len, X_train))/len(X_train))\n",
        "plt.hist([len(s) for s in X_train], bins=50)\n",
        "plt.xlabel('length of samples')\n",
        "plt.ylabel('number of samples')\n",
        "plt.show()"
      ],
      "execution_count": 105,
      "outputs": [
        {
          "output_type": "stream",
          "name": "stdout",
          "text": [
            "기사의 최대 길이 : 13\n",
            "기사의 평균 길이 : 6.200828157349896\n"
          ]
        },
        {
          "output_type": "display_data",
          "data": {
            "image/png": "[encoded data removed]",
            "text/plain": [
              "<Figure size 432x288 with 1 Axes>"
            ]
          },
          "metadata": {
            "needs_background": "light"
          }
        }
      ]
    },
    {
      "cell_type": "code",
      "metadata": {
        "id": "yFDDvQy2FlZK"
      },
      "source": [
        "def below_threshold_len(max_len, nested_list):\n",
        "  cnt = 0\n",
        "  for s in nested_list:\n",
        "    if(len(s) <= max_len):\n",
        "        cnt = cnt + 1\n",
        "  print('전체 샘플 중 길이가 %s 이하인 샘플의 비율: %s'%(max_len, (cnt / len(nested_list))*100))"
      ],
      "execution_count": 106,
      "outputs": []
    },
    {
      "cell_type": "code",
      "metadata": {
        "id": "x0njO96tFw1f",
        "colab": {
          "base_uri": "https://localhost:8080/"
        },
        "outputId": "cb5e0f9e-5695-4b80-93da-49521da7335b"
      },
      "source": [
        "max_len = 7\n",
        "below_threshold_len(max_len, X_train)"
      ],
      "execution_count": 107,
      "outputs": [
        {
          "output_type": "stream",
          "name": "stdout",
          "text": [
            "전체 샘플 중 길이가 7 이하인 샘플의 비율: 69.77225672877847\n"
          ]
        }
      ]
    },
    {
      "cell_type": "code",
      "metadata": {
        "id": "iIgJvzh2rhug"
      },
      "source": [
        "\n",
        "X_train = pad_sequences(X_train, maxlen = max_len)\n",
        "X_test = pad_sequences(X_test, maxlen = max_len)"
      ],
      "execution_count": 108,
      "outputs": []
    },
    {
      "cell_type": "code",
      "metadata": {
        "id": "NColEfDn5C_K"
      },
      "source": [
        "from tensorflow.keras.layers import Embedding, Dense, LSTM\n",
        "from tensorflow.keras.models import Sequential\n",
        "from tensorflow.keras.models import load_model\n",
        "from tensorflow.keras.callbacks import EarlyStopping, ModelCheckpoint"
      ],
      "execution_count": 109,
      "outputs": []
    },
    {
      "cell_type": "code",
      "metadata": {
        "id": "3aGOyv985GYH"
      },
      "source": [
        "es = EarlyStopping(monitor='val_loss', mode='min', verbose=1, patience=4)\n",
        "mc = ModelCheckpoint('best_model.h5', monitor='val_acc', mode='max', verbose=1, save_best_only=True)"
      ],
      "execution_count": 110,
      "outputs": []
    },
    {
      "cell_type": "code",
      "metadata": {
        "id": "B6nEH8bdvzFt"
      },
      "source": [
        "model = Sequential()\n",
        "model.add(Embedding(vocab_size, 100))\n",
        "model.add(LSTM(128))\n",
        "model.add(Dense(1, activation='sigmoid'))"
      ],
      "execution_count": 111,
      "outputs": []
    },
    {
      "cell_type": "code",
      "metadata": {
        "id": "7SHHUilxFB3Z",
        "colab": {
          "base_uri": "https://localhost:8080/"
        },
        "outputId": "8d8c8c27-71ac-4bc7-899b-e0bac9d87bf4"
      },
      "source": [
        "model.compile(optimizer='rmsprop', loss='binary_crossentropy', metrics=['acc'])\n",
        "history = model.fit(X_train, y_train, epochs=15, callbacks=[es, mc], batch_size=64, validation_split=0.2)"
      ],
      "execution_count": 112,
      "outputs": [
        {
          "output_type": "stream",
          "name": "stdout",
          "text": [
            "Epoch 1/15\n",
            "7/7 [==============================] - ETA: 0s - loss: 0.6086 - acc: 0.7487\n",
            "Epoch 00001: val_acc improved from -inf to 0.71134, saving model to best_model.h5\n",
            "7/7 [==============================] - 4s 180ms/step - loss: 0.6086 - acc: 0.7487 - val_loss: 0.7214 - val_acc: 0.7113\n",
            "Epoch 2/15\n",
            "7/7 [==============================] - ETA: 0s - loss: 0.4149 - acc: 0.8264\n",
            "Epoch 00002: val_acc improved from 0.71134 to 0.75258, saving model to best_model.h5\n",
            "7/7 [==============================] - 0s 29ms/step - loss: 0.4149 - acc: 0.8264 - val_loss: 0.9403 - val_acc: 0.7526\n",
            "Epoch 3/15\n",
            "7/7 [==============================] - ETA: 0s - loss: 0.3298 - acc: 0.8731\n",
            "Epoch 00003: val_acc did not improve from 0.75258\n",
            "7/7 [==============================] - 0s 25ms/step - loss: 0.3298 - acc: 0.8731 - val_loss: 0.6271 - val_acc: 0.7526\n",
            "Epoch 4/15\n",
            "4/7 [================>.............] - ETA: 0s - loss: 0.2532 - acc: 0.8945\n",
            "Epoch 00004: val_acc improved from 0.75258 to 0.77320, saving model to best_model.h5\n",
            "7/7 [==============================] - 0s 26ms/step - loss: 0.2394 - acc: 0.9041 - val_loss: 0.6389 - val_acc: 0.7732\n",
            "Epoch 5/15\n",
            "7/7 [==============================] - ETA: 0s - loss: 0.1838 - acc: 0.9275\n",
            "Epoch 00005: val_acc did not improve from 0.77320\n",
            "7/7 [==============================] - 0s 26ms/step - loss: 0.1838 - acc: 0.9275 - val_loss: 0.5255 - val_acc: 0.7732\n",
            "Epoch 6/15\n",
            "6/7 [========================>.....] - ETA: 0s - loss: 0.1447 - acc: 0.9531\n",
            "Epoch 00006: val_acc improved from 0.77320 to 0.83505, saving model to best_model.h5\n",
            "7/7 [==============================] - 0s 31ms/step - loss: 0.1448 - acc: 0.9534 - val_loss: 0.3762 - val_acc: 0.8351\n",
            "Epoch 7/15\n",
            "7/7 [==============================] - ETA: 0s - loss: 0.1074 - acc: 0.9689\n",
            "Epoch 00007: val_acc did not improve from 0.83505\n",
            "7/7 [==============================] - 0s 25ms/step - loss: 0.1074 - acc: 0.9689 - val_loss: 0.5495 - val_acc: 0.7938\n",
            "Epoch 8/15\n",
            "5/7 [====================>.........] - ETA: 0s - loss: 0.0908 - acc: 0.9812\n",
            "Epoch 00008: val_acc did not improve from 0.83505\n",
            "7/7 [==============================] - 0s 28ms/step - loss: 0.0919 - acc: 0.9767 - val_loss: 0.6109 - val_acc: 0.8247\n",
            "Epoch 9/15\n",
            "7/7 [==============================] - ETA: 0s - loss: 0.0807 - acc: 0.9793\n",
            "Epoch 00009: val_acc did not improve from 0.83505\n",
            "7/7 [==============================] - 0s 25ms/step - loss: 0.0807 - acc: 0.9793 - val_loss: 1.2148 - val_acc: 0.7732\n",
            "Epoch 10/15\n",
            "5/7 [====================>.........] - ETA: 0s - loss: 0.0869 - acc: 0.9781\n",
            "Epoch 00010: val_acc did not improve from 0.83505\n",
            "7/7 [==============================] - 0s 29ms/step - loss: 0.0884 - acc: 0.9767 - val_loss: 0.8950 - val_acc: 0.7835\n",
            "Epoch 00010: early stopping\n"
          ]
        }
      ]
    },
    {
      "cell_type": "code",
      "metadata": {
        "id": "Iva8x8Gr-W7w"
      },
      "source": [
        "loaded_model = load_model('best_model.h5')"
      ],
      "execution_count": 113,
      "outputs": []
    },
    {
      "cell_type": "code",
      "metadata": {
        "id": "eOenyOoS_Qt5",
        "colab": {
          "base_uri": "https://localhost:8080/"
        },
        "outputId": "876d38db-b45c-4e41-ce9f-1e15ef6d6ca9"
      },
      "source": [
        "print(\"\\n 테스트 정확도: %.4f\" % (loaded_model.evaluate(X_test, y_test)[1]))"
      ],
      "execution_count": 114,
      "outputs": [
        {
          "output_type": "stream",
          "name": "stdout",
          "text": [
            "3/3 [==============================] - 1s 9ms/step - loss: 0.2886 - acc: 0.8977\n",
            "\n",
            " 테스트 정확도: 0.8977\n"
          ]
        }
      ]
    },
    {
      "cell_type": "code",
      "metadata": {
        "id": "vbvk5X3PPExa"
      },
      "source": [
        "from collections import Counter\n",
        "from wordcloud import WordCloud\n",
        "\n",
        "file = files.upload\n",
        "wc = WordCloud(font_path = '/content/웰컴체 Regular.ttf', background_color = \"white\", width = 1000, height = 1000, max_words = 100, max_font_size = 300)\n",
        "\n",
        "def sentiment_predict(new_sentence):\n",
        "  new_sentence = re.sub(r'[^ㄱ-ㅎㅏ-ㅣ가-힣 ]','', new_sentence)\n",
        "  new_sentence = okt.morphs(new_sentence, stem=True) # 토큰화\n",
        "  new_sentence = [word for word in new_sentence if not word in stopwords] # 불용어 제거\n",
        "  encoded = tokenizer.texts_to_sequences([new_sentence]) # 정수 인코딩\n",
        "  pad_new = pad_sequences(encoded, maxlen = max_len) # 패딩\n",
        "  score = float(loaded_model.predict(pad_new)) # 예측\n",
        "  if(score > 0.5):\n",
        "    print(\"{:.2f}% 확률로 재난 기사입니다.\\n\".format(score * 100))\n",
        "    return True\n",
        "  else:\n",
        "    print(\"{:.2f}% 확률로 재난기사가 아닙니다.\\n\".format((1 - score) * 100))\n",
        "    return False"
      ],
      "execution_count": 115,
      "outputs": []
    },
    {
      "cell_type": "code",
      "metadata": {
        "id": "kkqdEk5_1uUc"
      },
      "source": [
        "from collections import Counter\n",
        "def countwords(text,result):\n",
        "  if(result == True):\n",
        "    words = re.sub(r'[^ㄱ-ㅎㅏ-ㅣ가-힣 ]','', text)\n",
        "    words = okt.morphs(words, stem=True) # 토큰화\n",
        "    words = [word for word in words if not word in stopwords] # 불용어 제거\n",
        "    #noun = okt.nouns(text)\n",
        "    for i,v in enumerate(words):\n",
        "      if( len(v) < 2):\n",
        "          words.pop(i)\n",
        "\n",
        "    count = Counter(words)\n",
        "    str = \" \"\n",
        "    noun_list = count.most_common(100)\n",
        "\n",
        "    for v in noun_list:\n",
        "      print(v)\n",
        "      num = f'{v[1]}'\n",
        "      #print(v[1], type(v[1]))\n",
        "      str += \"('\" + v[0] + \"'\" + \", \" + num + \")\"\n",
        "      \n",
        "      wc.generate(str)\n",
        "      wc.to_file('wordcloud.png')\n",
        "      \n",
        "    #return str\n",
        "  #else:\n",
        "    #return \" \"\n",
        "      \n",
        "    \n"
      ],
      "execution_count": 116,
      "outputs": []
    },
    {
      "cell_type": "code",
      "metadata": {
        "id": "kQj-BAb_HLqZ",
        "colab": {
          "base_uri": "https://localhost:8080/"
        },
        "outputId": "94b7b335-633a-49e9-82fd-f659e5155a5f"
      },
      "source": [
        "text1 = \"“하루 1만명 확진·50명 사망” 예측에…정부, 긴급의료대응계획 발표,  \" \n",
        "result = sentiment_predict(text1)\n",
        "string = countwords(text1,result)\n",
        "sumstring = \"\"\n",
        "#sumstring += countwords(text1,result)"
      ],
      "execution_count": 124,
      "outputs": [
        {
          "output_type": "stream",
          "name": "stdout",
          "text": [
            "86.01% 확률로 재난 기사입니다.\n",
            "\n",
            "('하루', 1)\n",
            "('명', 1)\n",
            "('진명', 1)\n",
            "('사망', 1)\n",
            "('예측', 1)\n",
            "('정부', 1)\n",
            "('긴급', 1)\n",
            "('의료', 1)\n",
            "('대응', 1)\n",
            "('계획', 1)\n",
            "('발표', 1)\n"
          ]
        }
      ]
    },
    {
      "cell_type": "code",
      "metadata": {
        "colab": {
          "base_uri": "https://localhost:8080/"
        },
        "id": "oc822Y-D0Hkf",
        "outputId": "daef9831-3b47-4187-804b-dcae88cce0f8"
      },
      "source": [
        "text2 = '윤석열 \"북한 비핵화 국제공조 주도하겠다\"'\n",
        "\n",
        "\n",
        "\n",
        "result2 = sentiment_predict(text2)\n",
        "countwords(text2,result2)\n",
        "\n",
        "#sumstring += countwords(text2,result2)"
      ],
      "execution_count": 118,
      "outputs": [
        {
          "output_type": "stream",
          "name": "stdout",
          "text": [
            "88.18% 확률로 재난기사가 아닙니다.\n",
            "\n"
          ]
        }
      ]
    },
    {
      "cell_type": "code",
      "metadata": {
        "id": "nh6QyTMGFF-U",
        "colab": {
          "base_uri": "https://localhost:8080/"
        },
        "outputId": "47013a54-c677-4288-976c-2b0f3b44e32f"
      },
      "source": [
        "text3 = '고발사주 이어 판사사찰·장모문건까지...손준성 넘어 尹까지 포위'\n",
        "\n",
        "result3 = sentiment_predict(text3)\n",
        "countwords(text3,result3)\n",
        "\n",
        "#sumstring += countwords(text3,result3)"
      ],
      "execution_count": 119,
      "outputs": [
        {
          "output_type": "stream",
          "name": "stdout",
          "text": [
            "84.51% 확률로 재난기사가 아닙니다.\n",
            "\n"
          ]
        }
      ]
    },
    {
      "cell_type": "code",
      "metadata": {
        "id": "bHUbPi5fHDjA",
        "colab": {
          "base_uri": "https://localhost:8080/"
        },
        "outputId": "a78ea47c-93e5-48d1-8362-0ff5d3d5d905"
      },
      "source": [
        "text4 = \"'쓰레기 대란' 일촉즉발....‘반입금지' 카드 꺼낸 수도권 매립지공사\"\n",
        "result4 = sentiment_predict(text4)\n",
        "countwords(text4,result4)\n",
        "\n",
        "#sumstring += countwords(text4,result4)"
      ],
      "execution_count": 120,
      "outputs": [
        {
          "output_type": "stream",
          "name": "stdout",
          "text": [
            "62.52% 확률로 재난기사가 아닙니다.\n",
            "\n"
          ]
        }
      ]
    },
    {
      "cell_type": "code",
      "metadata": {
        "colab": {
          "base_uri": "https://localhost:8080/"
        },
        "id": "y-8Y3sBD39Nc",
        "outputId": "085343cd-5bb6-441d-cd4d-381b6464f707"
      },
      "source": [
        "text5 = '\"강남땅을 구매\"...\"메타버스 + 부동산\" 신규 투자처?'\n",
        "result5 = sentiment_predict(text5)\n",
        "countwords(text5,result5)\n",
        "\n",
        "#sumstring += countwords(text5,result5)"
      ],
      "execution_count": 121,
      "outputs": [
        {
          "output_type": "stream",
          "name": "stdout",
          "text": [
            "82.88% 확률로 재난기사가 아닙니다.\n",
            "\n"
          ]
        }
      ]
    },
    {
      "cell_type": "code",
      "metadata": {
        "colab": {
          "base_uri": "https://localhost:8080/"
        },
        "id": "aJzjYOHz6KAf",
        "outputId": "2c8448d7-b3fc-44ec-aa59-7ba14f3c0f3f"
      },
      "source": [
        "text6 = '\"무작정 대기…요소수 재고, 마스크처럼 알려달라\" 아우성'\n",
        "result6 = sentiment_predict(text6)\n",
        "countwords(text6,result6)\n",
        "\n",
        "#sumstring += countwords(text6,result6)"
      ],
      "execution_count": 122,
      "outputs": [
        {
          "output_type": "stream",
          "name": "stdout",
          "text": [
            "65.17% 확률로 재난 기사입니다.\n",
            "\n",
            "('무작정', 1)\n",
            "('대기', 1)\n",
            "('소수', 1)\n",
            "('재고', 1)\n",
            "('마스크', 1)\n",
            "('처럼', 1)\n",
            "('알다', 1)\n",
            "('달라', 1)\n",
            "('아우성', 1)\n"
          ]
        }
      ]
    },
    {
      "cell_type": "code",
      "metadata": {
        "colab": {
          "base_uri": "https://localhost:8080/"
        },
        "id": "GA5xTfLZ6rlz",
        "outputId": "51b24257-6356-47f0-edc4-3382349b4e11"
      },
      "source": [
        "text7 = \"[위드 코로나] 전세계 코로나 확진자 60%가 유럽에서…각국 ‘백신패스’ 강화\"\n",
        "result7 = sentiment_predict(text7)\n",
        "countwords(text7,result7)\n",
        "\n",
        "#sumstring += countwords(text7,result7)\n",
        "\n",
        "#wc.generate(sumstring)\n",
        "#wc.to_file(\"sum_wordcloud.png\")"
      ],
      "execution_count": 123,
      "outputs": [
        {
          "output_type": "stream",
          "name": "stdout",
          "text": [
            "84.91% 확률로 재난 기사입니다.\n",
            "\n",
            "('코로나', 2)\n",
            "('위드', 1)\n",
            "('전세계', 1)\n",
            "('진자', 1)\n",
            "('가다', 1)\n",
            "('유럽', 1)\n",
            "('에서', 1)\n",
            "('각국', 1)\n",
            "('백신', 1)\n",
            "('패스', 1)\n",
            "('강화', 1)\n"
          ]
        }
      ]
    },
    {
      "cell_type": "code",
      "metadata": {
        "id": "qmbfGFaJ5IwY"
      },
      "source": [
        ""
      ],
      "execution_count": 123,
      "outputs": []
    }
  ]
}